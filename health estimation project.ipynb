{
 "cells": [
  {
   "cell_type": "markdown",
   "metadata": {},
   "source": [
    "## Health Monitoring machine learning model"
   ]
  },
  {
   "cell_type": "raw",
   "metadata": {},
   "source": [
    "step 1:importing libraries"
   ]
  },
  {
   "cell_type": "code",
   "execution_count": 1,
   "metadata": {},
   "outputs": [],
   "source": [
    "import pandas as pd\n",
    "import numpy as np\n",
    "import matplotlib.pyplot as plt"
   ]
  },
  {
   "cell_type": "raw",
   "metadata": {},
   "source": [
    "step 2:importing dataset"
   ]
  },
  {
   "cell_type": "code",
   "execution_count": 2,
   "metadata": {},
   "outputs": [
    {
     "data": {
      "text/html": [
       "<div>\n",
       "<style scoped>\n",
       "    .dataframe tbody tr th:only-of-type {\n",
       "        vertical-align: middle;\n",
       "    }\n",
       "\n",
       "    .dataframe tbody tr th {\n",
       "        vertical-align: top;\n",
       "    }\n",
       "\n",
       "    .dataframe thead th {\n",
       "        text-align: right;\n",
       "    }\n",
       "</style>\n",
       "<table border=\"1\" class=\"dataframe\">\n",
       "  <thead>\n",
       "    <tr style=\"text-align: right;\">\n",
       "      <th></th>\n",
       "      <th>SBP</th>\n",
       "      <th>DBP</th>\n",
       "      <th>Pulse</th>\n",
       "      <th>Temperature</th>\n",
       "      <th>Level</th>\n",
       "    </tr>\n",
       "  </thead>\n",
       "  <tbody>\n",
       "    <tr>\n",
       "      <th>0</th>\n",
       "      <td>120</td>\n",
       "      <td>80</td>\n",
       "      <td>80</td>\n",
       "      <td>98</td>\n",
       "      <td>0</td>\n",
       "    </tr>\n",
       "    <tr>\n",
       "      <th>1</th>\n",
       "      <td>140</td>\n",
       "      <td>83</td>\n",
       "      <td>75</td>\n",
       "      <td>100</td>\n",
       "      <td>1</td>\n",
       "    </tr>\n",
       "    <tr>\n",
       "      <th>2</th>\n",
       "      <td>155</td>\n",
       "      <td>100</td>\n",
       "      <td>92</td>\n",
       "      <td>104</td>\n",
       "      <td>2</td>\n",
       "    </tr>\n",
       "    <tr>\n",
       "      <th>3</th>\n",
       "      <td>115</td>\n",
       "      <td>82</td>\n",
       "      <td>79</td>\n",
       "      <td>97</td>\n",
       "      <td>0</td>\n",
       "    </tr>\n",
       "    <tr>\n",
       "      <th>4</th>\n",
       "      <td>119</td>\n",
       "      <td>79</td>\n",
       "      <td>85</td>\n",
       "      <td>102</td>\n",
       "      <td>1</td>\n",
       "    </tr>\n",
       "    <tr>\n",
       "      <th>...</th>\n",
       "      <td>...</td>\n",
       "      <td>...</td>\n",
       "      <td>...</td>\n",
       "      <td>...</td>\n",
       "      <td>...</td>\n",
       "    </tr>\n",
       "    <tr>\n",
       "      <th>144</th>\n",
       "      <td>154</td>\n",
       "      <td>99</td>\n",
       "      <td>83</td>\n",
       "      <td>103</td>\n",
       "      <td>2</td>\n",
       "    </tr>\n",
       "    <tr>\n",
       "      <th>145</th>\n",
       "      <td>118</td>\n",
       "      <td>77</td>\n",
       "      <td>73</td>\n",
       "      <td>98</td>\n",
       "      <td>0</td>\n",
       "    </tr>\n",
       "    <tr>\n",
       "      <th>146</th>\n",
       "      <td>125</td>\n",
       "      <td>87</td>\n",
       "      <td>79</td>\n",
       "      <td>102</td>\n",
       "      <td>1</td>\n",
       "    </tr>\n",
       "    <tr>\n",
       "      <th>147</th>\n",
       "      <td>132</td>\n",
       "      <td>88</td>\n",
       "      <td>78</td>\n",
       "      <td>101</td>\n",
       "      <td>1</td>\n",
       "    </tr>\n",
       "    <tr>\n",
       "      <th>148</th>\n",
       "      <td>118</td>\n",
       "      <td>82</td>\n",
       "      <td>74</td>\n",
       "      <td>98</td>\n",
       "      <td>0</td>\n",
       "    </tr>\n",
       "  </tbody>\n",
       "</table>\n",
       "<p>149 rows × 5 columns</p>\n",
       "</div>"
      ],
      "text/plain": [
       "     SBP  DBP  Pulse  Temperature  Level\n",
       "0    120   80     80           98      0\n",
       "1    140   83     75          100      1\n",
       "2    155  100     92          104      2\n",
       "3    115   82     79           97      0\n",
       "4    119   79     85          102      1\n",
       "..   ...  ...    ...          ...    ...\n",
       "144  154   99     83          103      2\n",
       "145  118   77     73           98      0\n",
       "146  125   87     79          102      1\n",
       "147  132   88     78          101      1\n",
       "148  118   82     74           98      0\n",
       "\n",
       "[149 rows x 5 columns]"
      ]
     },
     "execution_count": 2,
     "metadata": {},
     "output_type": "execute_result"
    }
   ],
   "source": [
    "ds=pd.read_csv('Health monitoring.csv')\n",
    "ds"
   ]
  },
  {
   "cell_type": "raw",
   "metadata": {},
   "source": [
    "step 3:analysing the dataset"
   ]
  },
  {
   "cell_type": "code",
   "execution_count": 3,
   "metadata": {},
   "outputs": [
    {
     "data": {
      "text/plain": [
       "(149, 5)"
      ]
     },
     "execution_count": 3,
     "metadata": {},
     "output_type": "execute_result"
    }
   ],
   "source": [
    "ds.shape"
   ]
  },
  {
   "cell_type": "code",
   "execution_count": 4,
   "metadata": {},
   "outputs": [
    {
     "data": {
      "text/html": [
       "<div>\n",
       "<style scoped>\n",
       "    .dataframe tbody tr th:only-of-type {\n",
       "        vertical-align: middle;\n",
       "    }\n",
       "\n",
       "    .dataframe tbody tr th {\n",
       "        vertical-align: top;\n",
       "    }\n",
       "\n",
       "    .dataframe thead th {\n",
       "        text-align: right;\n",
       "    }\n",
       "</style>\n",
       "<table border=\"1\" class=\"dataframe\">\n",
       "  <thead>\n",
       "    <tr style=\"text-align: right;\">\n",
       "      <th></th>\n",
       "      <th>SBP</th>\n",
       "      <th>DBP</th>\n",
       "      <th>Pulse</th>\n",
       "      <th>Temperature</th>\n",
       "      <th>Level</th>\n",
       "    </tr>\n",
       "  </thead>\n",
       "  <tbody>\n",
       "    <tr>\n",
       "      <th>SBP</th>\n",
       "      <td>1.000000</td>\n",
       "      <td>0.943880</td>\n",
       "      <td>0.555287</td>\n",
       "      <td>0.253203</td>\n",
       "      <td>0.208731</td>\n",
       "    </tr>\n",
       "    <tr>\n",
       "      <th>DBP</th>\n",
       "      <td>0.943880</td>\n",
       "      <td>1.000000</td>\n",
       "      <td>0.518759</td>\n",
       "      <td>0.186894</td>\n",
       "      <td>0.108586</td>\n",
       "    </tr>\n",
       "    <tr>\n",
       "      <th>Pulse</th>\n",
       "      <td>0.555287</td>\n",
       "      <td>0.518759</td>\n",
       "      <td>1.000000</td>\n",
       "      <td>0.392804</td>\n",
       "      <td>0.384465</td>\n",
       "    </tr>\n",
       "    <tr>\n",
       "      <th>Temperature</th>\n",
       "      <td>0.253203</td>\n",
       "      <td>0.186894</td>\n",
       "      <td>0.392804</td>\n",
       "      <td>1.000000</td>\n",
       "      <td>0.648766</td>\n",
       "    </tr>\n",
       "    <tr>\n",
       "      <th>Level</th>\n",
       "      <td>0.208731</td>\n",
       "      <td>0.108586</td>\n",
       "      <td>0.384465</td>\n",
       "      <td>0.648766</td>\n",
       "      <td>1.000000</td>\n",
       "    </tr>\n",
       "  </tbody>\n",
       "</table>\n",
       "</div>"
      ],
      "text/plain": [
       "                  SBP       DBP     Pulse  Temperature     Level\n",
       "SBP          1.000000  0.943880  0.555287     0.253203  0.208731\n",
       "DBP          0.943880  1.000000  0.518759     0.186894  0.108586\n",
       "Pulse        0.555287  0.518759  1.000000     0.392804  0.384465\n",
       "Temperature  0.253203  0.186894  0.392804     1.000000  0.648766\n",
       "Level        0.208731  0.108586  0.384465     0.648766  1.000000"
      ]
     },
     "execution_count": 4,
     "metadata": {},
     "output_type": "execute_result"
    }
   ],
   "source": [
    "ds.corr()"
   ]
  },
  {
   "cell_type": "code",
   "execution_count": 5,
   "metadata": {},
   "outputs": [
    {
     "data": {
      "text/plain": [
       "<matplotlib.axes._subplots.AxesSubplot at 0x2adee23a1c8>"
      ]
     },
     "execution_count": 5,
     "metadata": {},
     "output_type": "execute_result"
    },
    {
     "data": {
      "image/png": "[encoded data removed]",
      "text/plain": [
       "<Figure size 432x288 with 2 Axes>"
      ]
     },
     "metadata": {
      "needs_background": "light"
     },
     "output_type": "display_data"
    }
   ],
   "source": [
    "import seaborn as sns\n",
    "sns.heatmap(ds.corr(),annot=True)"
   ]
  },
  {
   "cell_type": "code",
   "execution_count": 6,
   "metadata": {},
   "outputs": [
    {
     "data": {
      "text/html": [
       "<div>\n",
       "<style scoped>\n",
       "    .dataframe tbody tr th:only-of-type {\n",
       "        vertical-align: middle;\n",
       "    }\n",
       "\n",
       "    .dataframe tbody tr th {\n",
       "        vertical-align: top;\n",
       "    }\n",
       "\n",
       "    .dataframe thead th {\n",
       "        text-align: right;\n",
       "    }\n",
       "</style>\n",
       "<table border=\"1\" class=\"dataframe\">\n",
       "  <thead>\n",
       "    <tr style=\"text-align: right;\">\n",
       "      <th></th>\n",
       "      <th>SBP</th>\n",
       "      <th>DBP</th>\n",
       "      <th>Pulse</th>\n",
       "      <th>Temperature</th>\n",
       "      <th>Level</th>\n",
       "    </tr>\n",
       "  </thead>\n",
       "  <tbody>\n",
       "    <tr>\n",
       "      <th>count</th>\n",
       "      <td>149.000000</td>\n",
       "      <td>149.000000</td>\n",
       "      <td>149.000000</td>\n",
       "      <td>149.000000</td>\n",
       "      <td>149.000000</td>\n",
       "    </tr>\n",
       "    <tr>\n",
       "      <th>mean</th>\n",
       "      <td>123.516779</td>\n",
       "      <td>81.261745</td>\n",
       "      <td>75.550336</td>\n",
       "      <td>99.926174</td>\n",
       "      <td>0.993289</td>\n",
       "    </tr>\n",
       "    <tr>\n",
       "      <th>std</th>\n",
       "      <td>14.486995</td>\n",
       "      <td>9.752613</td>\n",
       "      <td>5.344151</td>\n",
       "      <td>2.056939</td>\n",
       "      <td>0.850252</td>\n",
       "    </tr>\n",
       "    <tr>\n",
       "      <th>min</th>\n",
       "      <td>95.000000</td>\n",
       "      <td>60.000000</td>\n",
       "      <td>60.000000</td>\n",
       "      <td>94.000000</td>\n",
       "      <td>0.000000</td>\n",
       "    </tr>\n",
       "    <tr>\n",
       "      <th>25%</th>\n",
       "      <td>117.000000</td>\n",
       "      <td>77.000000</td>\n",
       "      <td>72.000000</td>\n",
       "      <td>98.000000</td>\n",
       "      <td>0.000000</td>\n",
       "    </tr>\n",
       "    <tr>\n",
       "      <th>50%</th>\n",
       "      <td>119.000000</td>\n",
       "      <td>80.000000</td>\n",
       "      <td>76.000000</td>\n",
       "      <td>100.000000</td>\n",
       "      <td>1.000000</td>\n",
       "    </tr>\n",
       "    <tr>\n",
       "      <th>75%</th>\n",
       "      <td>132.000000</td>\n",
       "      <td>88.000000</td>\n",
       "      <td>79.000000</td>\n",
       "      <td>101.000000</td>\n",
       "      <td>2.000000</td>\n",
       "    </tr>\n",
       "    <tr>\n",
       "      <th>max</th>\n",
       "      <td>155.000000</td>\n",
       "      <td>101.000000</td>\n",
       "      <td>92.000000</td>\n",
       "      <td>106.000000</td>\n",
       "      <td>2.000000</td>\n",
       "    </tr>\n",
       "  </tbody>\n",
       "</table>\n",
       "</div>"
      ],
      "text/plain": [
       "              SBP         DBP       Pulse  Temperature       Level\n",
       "count  149.000000  149.000000  149.000000   149.000000  149.000000\n",
       "mean   123.516779   81.261745   75.550336    99.926174    0.993289\n",
       "std     14.486995    9.752613    5.344151     2.056939    0.850252\n",
       "min     95.000000   60.000000   60.000000    94.000000    0.000000\n",
       "25%    117.000000   77.000000   72.000000    98.000000    0.000000\n",
       "50%    119.000000   80.000000   76.000000   100.000000    1.000000\n",
       "75%    132.000000   88.000000   79.000000   101.000000    2.000000\n",
       "max    155.000000  101.000000   92.000000   106.000000    2.000000"
      ]
     },
     "execution_count": 6,
     "metadata": {},
     "output_type": "execute_result"
    }
   ],
   "source": [
    "ds.describe()"
   ]
  },
  {
   "cell_type": "raw",
   "metadata": {},
   "source": [
    "step 4: checking for null values and outliers"
   ]
  },
  {
   "cell_type": "code",
   "execution_count": 7,
   "metadata": {},
   "outputs": [
    {
     "data": {
      "text/plain": [
       "SBP            False\n",
       "DBP            False\n",
       "Pulse          False\n",
       "Temperature    False\n",
       "Level          False\n",
       "dtype: bool"
      ]
     },
     "execution_count": 7,
     "metadata": {},
     "output_type": "execute_result"
    }
   ],
   "source": [
    "ds.isnull().any()"
   ]
  },
  {
   "cell_type": "raw",
   "metadata": {},
   "source": [
    "note:\n",
    "    as there are no null values present in our dataset we will be checking\n",
    "    for outliers in the dataset using boxplot "
   ]
  },
  {
   "cell_type": "code",
   "execution_count": 8,
   "metadata": {},
   "outputs": [
    {
     "data": {
      "text/plain": [
       "<matplotlib.axes._subplots.AxesSubplot at 0x2adee9b3048>"
      ]
     },
     "execution_count": 8,
     "metadata": {},
     "output_type": "execute_result"
    },
    {
     "data": {
      "image/png": "[encoded data removed]",
      "text/plain": [
       "<Figure size 432x288 with 1 Axes>"
      ]
     },
     "metadata": {
      "needs_background": "light"
     },
     "output_type": "display_data"
    }
   ],
   "source": [
    "sns.boxplot(ds['SBP'])"
   ]
  },
  {
   "cell_type": "code",
   "execution_count": 9,
   "metadata": {},
   "outputs": [
    {
     "data": {
      "text/plain": [
       "<matplotlib.axes._subplots.AxesSubplot at 0x2adee9d4c08>"
      ]
     },
     "execution_count": 9,
     "metadata": {},
     "output_type": "execute_result"
    },
    {
     "data": {
      "image/png": "[encoded data removed]",
      "text/plain": [
       "<Figure size 432x288 with 1 Axes>"
      ]
     },
     "metadata": {
      "needs_background": "light"
     },
     "output_type": "display_data"
    }
   ],
   "source": [
    "sns.boxplot(ds['DBP'])"
   ]
  },
  {
   "cell_type": "code",
   "execution_count": 10,
   "metadata": {},
   "outputs": [
    {
     "data": {
      "text/plain": [
       "<matplotlib.axes._subplots.AxesSubplot at 0x2adeeb24308>"
      ]
     },
     "execution_count": 10,
     "metadata": {},
     "output_type": "execute_result"
    },
    {
     "data": {
      "image/png": "[encoded data removed]",
      "text/plain": [
       "<Figure size 432x288 with 1 Axes>"
      ]
     },
     "metadata": {
      "needs_background": "light"
     },
     "output_type": "display_data"
    }
   ],
   "source": [
    "sns.boxplot(ds['Pulse'])"
   ]
  },
  {
   "cell_type": "code",
   "execution_count": 11,
   "metadata": {},
   "outputs": [
    {
     "data": {
      "text/plain": [
       "<matplotlib.axes._subplots.AxesSubplot at 0x2adeeb8b408>"
      ]
     },
     "execution_count": 11,
     "metadata": {},
     "output_type": "execute_result"
    },
    {
     "data": {
      "image/png": "[encoded data removed]",
      "text/plain": [
       "<Figure size 432x288 with 1 Axes>"
      ]
     },
     "metadata": {
      "needs_background": "light"
     },
     "output_type": "display_data"
    }
   ],
   "source": [
    "sns.boxplot(ds['Temperature'])"
   ]
  },
  {
   "cell_type": "code",
   "execution_count": 12,
   "metadata": {
    "scrolled": true
   },
   "outputs": [
    {
     "data": {
      "text/plain": [
       "<matplotlib.axes._subplots.AxesSubplot at 0x2adeebfd2c8>"
      ]
     },
     "execution_count": 12,
     "metadata": {},
     "output_type": "execute_result"
    },
    {
     "data": {
      "image/png": "[encoded data removed]",
      "text/plain": [
       "<Figure size 432x288 with 1 Axes>"
      ]
     },
     "metadata": {
      "needs_background": "light"
     },
     "output_type": "display_data"
    }
   ],
   "source": [
    "sns.boxplot(ds['Level'])"
   ]
  },
  {
   "cell_type": "raw",
   "metadata": {},
   "source": [
    "note:\n",
    "    as there are outliers in most columns of our dataset we replacing the\n",
    "    outliers below the lower whisker with 25% quartile number and the       \n",
    "    numbers above the upper whisker with 75% quartile number by creating new\n",
    "    columns for them."
   ]
  },
  {
   "cell_type": "code",
   "execution_count": 13,
   "metadata": {},
   "outputs": [
    {
     "data": {
      "text/plain": [
       "SBP            15.0\n",
       "DBP            11.0\n",
       "Pulse           7.0\n",
       "Temperature     3.0\n",
       "Level           2.0\n",
       "dtype: float64"
      ]
     },
     "execution_count": 13,
     "metadata": {},
     "output_type": "execute_result"
    }
   ],
   "source": [
    "iqr=ds.quantile(0.75)-ds.quantile(0.25)\n",
    "iqr"
   ]
  },
  {
   "cell_type": "code",
   "execution_count": 14,
   "metadata": {},
   "outputs": [
    {
     "data": {
      "text/plain": [
       "SBP            94.5\n",
       "DBP            60.5\n",
       "Pulse          61.5\n",
       "Temperature    93.5\n",
       "Level          -3.0\n",
       "dtype: float64"
      ]
     },
     "execution_count": 14,
     "metadata": {},
     "output_type": "execute_result"
    }
   ],
   "source": [
    "lw=ds.quantile(0.25)-(iqr*1.5)\n",
    "lw"
   ]
  },
  {
   "cell_type": "code",
   "execution_count": 15,
   "metadata": {},
   "outputs": [
    {
     "data": {
      "text/plain": [
       "SBP            154.5\n",
       "DBP            104.5\n",
       "Pulse           89.5\n",
       "Temperature    105.5\n",
       "Level            5.0\n",
       "dtype: float64"
      ]
     },
     "execution_count": 15,
     "metadata": {},
     "output_type": "execute_result"
    }
   ],
   "source": [
    "uw=ds.quantile(0.75)+(iqr*1.5)\n",
    "uw"
   ]
  },
  {
   "cell_type": "code",
   "execution_count": 16,
   "metadata": {},
   "outputs": [
    {
     "data": {
      "text/html": [
       "<div>\n",
       "<style scoped>\n",
       "    .dataframe tbody tr th:only-of-type {\n",
       "        vertical-align: middle;\n",
       "    }\n",
       "\n",
       "    .dataframe tbody tr th {\n",
       "        vertical-align: top;\n",
       "    }\n",
       "\n",
       "    .dataframe thead th {\n",
       "        text-align: right;\n",
       "    }\n",
       "</style>\n",
       "<table border=\"1\" class=\"dataframe\">\n",
       "  <thead>\n",
       "    <tr style=\"text-align: right;\">\n",
       "      <th></th>\n",
       "      <th>SBP</th>\n",
       "      <th>DBP</th>\n",
       "      <th>Pulse</th>\n",
       "      <th>Temperature</th>\n",
       "      <th>Level</th>\n",
       "      <th>S_new</th>\n",
       "    </tr>\n",
       "  </thead>\n",
       "  <tbody>\n",
       "    <tr>\n",
       "      <th>0</th>\n",
       "      <td>120</td>\n",
       "      <td>80</td>\n",
       "      <td>80</td>\n",
       "      <td>98</td>\n",
       "      <td>0</td>\n",
       "      <td>120.0</td>\n",
       "    </tr>\n",
       "    <tr>\n",
       "      <th>1</th>\n",
       "      <td>140</td>\n",
       "      <td>83</td>\n",
       "      <td>75</td>\n",
       "      <td>100</td>\n",
       "      <td>1</td>\n",
       "      <td>140.0</td>\n",
       "    </tr>\n",
       "    <tr>\n",
       "      <th>2</th>\n",
       "      <td>155</td>\n",
       "      <td>100</td>\n",
       "      <td>92</td>\n",
       "      <td>104</td>\n",
       "      <td>2</td>\n",
       "      <td>132.0</td>\n",
       "    </tr>\n",
       "    <tr>\n",
       "      <th>3</th>\n",
       "      <td>115</td>\n",
       "      <td>82</td>\n",
       "      <td>79</td>\n",
       "      <td>97</td>\n",
       "      <td>0</td>\n",
       "      <td>115.0</td>\n",
       "    </tr>\n",
       "    <tr>\n",
       "      <th>4</th>\n",
       "      <td>119</td>\n",
       "      <td>79</td>\n",
       "      <td>85</td>\n",
       "      <td>102</td>\n",
       "      <td>1</td>\n",
       "      <td>119.0</td>\n",
       "    </tr>\n",
       "    <tr>\n",
       "      <th>...</th>\n",
       "      <td>...</td>\n",
       "      <td>...</td>\n",
       "      <td>...</td>\n",
       "      <td>...</td>\n",
       "      <td>...</td>\n",
       "      <td>...</td>\n",
       "    </tr>\n",
       "    <tr>\n",
       "      <th>144</th>\n",
       "      <td>154</td>\n",
       "      <td>99</td>\n",
       "      <td>83</td>\n",
       "      <td>103</td>\n",
       "      <td>2</td>\n",
       "      <td>154.0</td>\n",
       "    </tr>\n",
       "    <tr>\n",
       "      <th>145</th>\n",
       "      <td>118</td>\n",
       "      <td>77</td>\n",
       "      <td>73</td>\n",
       "      <td>98</td>\n",
       "      <td>0</td>\n",
       "      <td>118.0</td>\n",
       "    </tr>\n",
       "    <tr>\n",
       "      <th>146</th>\n",
       "      <td>125</td>\n",
       "      <td>87</td>\n",
       "      <td>79</td>\n",
       "      <td>102</td>\n",
       "      <td>1</td>\n",
       "      <td>125.0</td>\n",
       "    </tr>\n",
       "    <tr>\n",
       "      <th>147</th>\n",
       "      <td>132</td>\n",
       "      <td>88</td>\n",
       "      <td>78</td>\n",
       "      <td>101</td>\n",
       "      <td>1</td>\n",
       "      <td>132.0</td>\n",
       "    </tr>\n",
       "    <tr>\n",
       "      <th>148</th>\n",
       "      <td>118</td>\n",
       "      <td>82</td>\n",
       "      <td>74</td>\n",
       "      <td>98</td>\n",
       "      <td>0</td>\n",
       "      <td>118.0</td>\n",
       "    </tr>\n",
       "  </tbody>\n",
       "</table>\n",
       "<p>149 rows × 6 columns</p>\n",
       "</div>"
      ],
      "text/plain": [
       "     SBP  DBP  Pulse  Temperature  Level  S_new\n",
       "0    120   80     80           98      0  120.0\n",
       "1    140   83     75          100      1  140.0\n",
       "2    155  100     92          104      2  132.0\n",
       "3    115   82     79           97      0  115.0\n",
       "4    119   79     85          102      1  119.0\n",
       "..   ...  ...    ...          ...    ...    ...\n",
       "144  154   99     83          103      2  154.0\n",
       "145  118   77     73           98      0  118.0\n",
       "146  125   87     79          102      1  125.0\n",
       "147  132   88     78          101      1  132.0\n",
       "148  118   82     74           98      0  118.0\n",
       "\n",
       "[149 rows x 6 columns]"
      ]
     },
     "execution_count": 16,
     "metadata": {},
     "output_type": "execute_result"
    }
   ],
   "source": [
    "ds['S_new']=np.where(ds['SBP']<=lw[0],ds['SBP'].quantile(0.25),ds['SBP'])\n",
    "ds['S_new']=np.where(ds['SBP']>=uw[0],ds['SBP'].quantile(0.75),ds['S_new'])\n",
    "ds"
   ]
  },
  {
   "cell_type": "code",
   "execution_count": 17,
   "metadata": {},
   "outputs": [
    {
     "data": {
      "text/html": [
       "<div>\n",
       "<style scoped>\n",
       "    .dataframe tbody tr th:only-of-type {\n",
       "        vertical-align: middle;\n",
       "    }\n",
       "\n",
       "    .dataframe tbody tr th {\n",
       "        vertical-align: top;\n",
       "    }\n",
       "\n",
       "    .dataframe thead th {\n",
       "        text-align: right;\n",
       "    }\n",
       "</style>\n",
       "<table border=\"1\" class=\"dataframe\">\n",
       "  <thead>\n",
       "    <tr style=\"text-align: right;\">\n",
       "      <th></th>\n",
       "      <th>SBP</th>\n",
       "      <th>DBP</th>\n",
       "      <th>Pulse</th>\n",
       "      <th>Temperature</th>\n",
       "      <th>Level</th>\n",
       "      <th>S_new</th>\n",
       "      <th>D_new</th>\n",
       "    </tr>\n",
       "  </thead>\n",
       "  <tbody>\n",
       "    <tr>\n",
       "      <th>0</th>\n",
       "      <td>120</td>\n",
       "      <td>80</td>\n",
       "      <td>80</td>\n",
       "      <td>98</td>\n",
       "      <td>0</td>\n",
       "      <td>120.0</td>\n",
       "      <td>80.0</td>\n",
       "    </tr>\n",
       "    <tr>\n",
       "      <th>1</th>\n",
       "      <td>140</td>\n",
       "      <td>83</td>\n",
       "      <td>75</td>\n",
       "      <td>100</td>\n",
       "      <td>1</td>\n",
       "      <td>140.0</td>\n",
       "      <td>83.0</td>\n",
       "    </tr>\n",
       "    <tr>\n",
       "      <th>2</th>\n",
       "      <td>155</td>\n",
       "      <td>100</td>\n",
       "      <td>92</td>\n",
       "      <td>104</td>\n",
       "      <td>2</td>\n",
       "      <td>132.0</td>\n",
       "      <td>100.0</td>\n",
       "    </tr>\n",
       "    <tr>\n",
       "      <th>3</th>\n",
       "      <td>115</td>\n",
       "      <td>82</td>\n",
       "      <td>79</td>\n",
       "      <td>97</td>\n",
       "      <td>0</td>\n",
       "      <td>115.0</td>\n",
       "      <td>82.0</td>\n",
       "    </tr>\n",
       "    <tr>\n",
       "      <th>4</th>\n",
       "      <td>119</td>\n",
       "      <td>79</td>\n",
       "      <td>85</td>\n",
       "      <td>102</td>\n",
       "      <td>1</td>\n",
       "      <td>119.0</td>\n",
       "      <td>79.0</td>\n",
       "    </tr>\n",
       "    <tr>\n",
       "      <th>...</th>\n",
       "      <td>...</td>\n",
       "      <td>...</td>\n",
       "      <td>...</td>\n",
       "      <td>...</td>\n",
       "      <td>...</td>\n",
       "      <td>...</td>\n",
       "      <td>...</td>\n",
       "    </tr>\n",
       "    <tr>\n",
       "      <th>144</th>\n",
       "      <td>154</td>\n",
       "      <td>99</td>\n",
       "      <td>83</td>\n",
       "      <td>103</td>\n",
       "      <td>2</td>\n",
       "      <td>154.0</td>\n",
       "      <td>99.0</td>\n",
       "    </tr>\n",
       "    <tr>\n",
       "      <th>145</th>\n",
       "      <td>118</td>\n",
       "      <td>77</td>\n",
       "      <td>73</td>\n",
       "      <td>98</td>\n",
       "      <td>0</td>\n",
       "      <td>118.0</td>\n",
       "      <td>77.0</td>\n",
       "    </tr>\n",
       "    <tr>\n",
       "      <th>146</th>\n",
       "      <td>125</td>\n",
       "      <td>87</td>\n",
       "      <td>79</td>\n",
       "      <td>102</td>\n",
       "      <td>1</td>\n",
       "      <td>125.0</td>\n",
       "      <td>87.0</td>\n",
       "    </tr>\n",
       "    <tr>\n",
       "      <th>147</th>\n",
       "      <td>132</td>\n",
       "      <td>88</td>\n",
       "      <td>78</td>\n",
       "      <td>101</td>\n",
       "      <td>1</td>\n",
       "      <td>132.0</td>\n",
       "      <td>88.0</td>\n",
       "    </tr>\n",
       "    <tr>\n",
       "      <th>148</th>\n",
       "      <td>118</td>\n",
       "      <td>82</td>\n",
       "      <td>74</td>\n",
       "      <td>98</td>\n",
       "      <td>0</td>\n",
       "      <td>118.0</td>\n",
       "      <td>82.0</td>\n",
       "    </tr>\n",
       "  </tbody>\n",
       "</table>\n",
       "<p>149 rows × 7 columns</p>\n",
       "</div>"
      ],
      "text/plain": [
       "     SBP  DBP  Pulse  Temperature  Level  S_new  D_new\n",
       "0    120   80     80           98      0  120.0   80.0\n",
       "1    140   83     75          100      1  140.0   83.0\n",
       "2    155  100     92          104      2  132.0  100.0\n",
       "3    115   82     79           97      0  115.0   82.0\n",
       "4    119   79     85          102      1  119.0   79.0\n",
       "..   ...  ...    ...          ...    ...    ...    ...\n",
       "144  154   99     83          103      2  154.0   99.0\n",
       "145  118   77     73           98      0  118.0   77.0\n",
       "146  125   87     79          102      1  125.0   87.0\n",
       "147  132   88     78          101      1  132.0   88.0\n",
       "148  118   82     74           98      0  118.0   82.0\n",
       "\n",
       "[149 rows x 7 columns]"
      ]
     },
     "execution_count": 17,
     "metadata": {},
     "output_type": "execute_result"
    }
   ],
   "source": [
    "ds['D_new']=np.where(ds['DBP']<=lw[1],ds['DBP'].quantile(0.25),ds['DBP'])\n",
    "ds['D_new']=np.where(ds['DBP']>=uw[1],ds['DBP'].quantile(0.75),ds['D_new'])\n",
    "ds"
   ]
  },
  {
   "cell_type": "code",
   "execution_count": 18,
   "metadata": {},
   "outputs": [
    {
     "data": {
      "text/html": [
       "<div>\n",
       "<style scoped>\n",
       "    .dataframe tbody tr th:only-of-type {\n",
       "        vertical-align: middle;\n",
       "    }\n",
       "\n",
       "    .dataframe tbody tr th {\n",
       "        vertical-align: top;\n",
       "    }\n",
       "\n",
       "    .dataframe thead th {\n",
       "        text-align: right;\n",
       "    }\n",
       "</style>\n",
       "<table border=\"1\" class=\"dataframe\">\n",
       "  <thead>\n",
       "    <tr style=\"text-align: right;\">\n",
       "      <th></th>\n",
       "      <th>SBP</th>\n",
       "      <th>DBP</th>\n",
       "      <th>Pulse</th>\n",
       "      <th>Temperature</th>\n",
       "      <th>Level</th>\n",
       "      <th>S_new</th>\n",
       "      <th>D_new</th>\n",
       "      <th>P_new</th>\n",
       "    </tr>\n",
       "  </thead>\n",
       "  <tbody>\n",
       "    <tr>\n",
       "      <th>0</th>\n",
       "      <td>120</td>\n",
       "      <td>80</td>\n",
       "      <td>80</td>\n",
       "      <td>98</td>\n",
       "      <td>0</td>\n",
       "      <td>120.0</td>\n",
       "      <td>80.0</td>\n",
       "      <td>80.0</td>\n",
       "    </tr>\n",
       "    <tr>\n",
       "      <th>1</th>\n",
       "      <td>140</td>\n",
       "      <td>83</td>\n",
       "      <td>75</td>\n",
       "      <td>100</td>\n",
       "      <td>1</td>\n",
       "      <td>140.0</td>\n",
       "      <td>83.0</td>\n",
       "      <td>75.0</td>\n",
       "    </tr>\n",
       "    <tr>\n",
       "      <th>2</th>\n",
       "      <td>155</td>\n",
       "      <td>100</td>\n",
       "      <td>92</td>\n",
       "      <td>104</td>\n",
       "      <td>2</td>\n",
       "      <td>132.0</td>\n",
       "      <td>100.0</td>\n",
       "      <td>79.0</td>\n",
       "    </tr>\n",
       "    <tr>\n",
       "      <th>3</th>\n",
       "      <td>115</td>\n",
       "      <td>82</td>\n",
       "      <td>79</td>\n",
       "      <td>97</td>\n",
       "      <td>0</td>\n",
       "      <td>115.0</td>\n",
       "      <td>82.0</td>\n",
       "      <td>79.0</td>\n",
       "    </tr>\n",
       "    <tr>\n",
       "      <th>4</th>\n",
       "      <td>119</td>\n",
       "      <td>79</td>\n",
       "      <td>85</td>\n",
       "      <td>102</td>\n",
       "      <td>1</td>\n",
       "      <td>119.0</td>\n",
       "      <td>79.0</td>\n",
       "      <td>85.0</td>\n",
       "    </tr>\n",
       "    <tr>\n",
       "      <th>...</th>\n",
       "      <td>...</td>\n",
       "      <td>...</td>\n",
       "      <td>...</td>\n",
       "      <td>...</td>\n",
       "      <td>...</td>\n",
       "      <td>...</td>\n",
       "      <td>...</td>\n",
       "      <td>...</td>\n",
       "    </tr>\n",
       "    <tr>\n",
       "      <th>144</th>\n",
       "      <td>154</td>\n",
       "      <td>99</td>\n",
       "      <td>83</td>\n",
       "      <td>103</td>\n",
       "      <td>2</td>\n",
       "      <td>154.0</td>\n",
       "      <td>99.0</td>\n",
       "      <td>83.0</td>\n",
       "    </tr>\n",
       "    <tr>\n",
       "      <th>145</th>\n",
       "      <td>118</td>\n",
       "      <td>77</td>\n",
       "      <td>73</td>\n",
       "      <td>98</td>\n",
       "      <td>0</td>\n",
       "      <td>118.0</td>\n",
       "      <td>77.0</td>\n",
       "      <td>73.0</td>\n",
       "    </tr>\n",
       "    <tr>\n",
       "      <th>146</th>\n",
       "      <td>125</td>\n",
       "      <td>87</td>\n",
       "      <td>79</td>\n",
       "      <td>102</td>\n",
       "      <td>1</td>\n",
       "      <td>125.0</td>\n",
       "      <td>87.0</td>\n",
       "      <td>79.0</td>\n",
       "    </tr>\n",
       "    <tr>\n",
       "      <th>147</th>\n",
       "      <td>132</td>\n",
       "      <td>88</td>\n",
       "      <td>78</td>\n",
       "      <td>101</td>\n",
       "      <td>1</td>\n",
       "      <td>132.0</td>\n",
       "      <td>88.0</td>\n",
       "      <td>78.0</td>\n",
       "    </tr>\n",
       "    <tr>\n",
       "      <th>148</th>\n",
       "      <td>118</td>\n",
       "      <td>82</td>\n",
       "      <td>74</td>\n",
       "      <td>98</td>\n",
       "      <td>0</td>\n",
       "      <td>118.0</td>\n",
       "      <td>82.0</td>\n",
       "      <td>74.0</td>\n",
       "    </tr>\n",
       "  </tbody>\n",
       "</table>\n",
       "<p>149 rows × 8 columns</p>\n",
       "</div>"
      ],
      "text/plain": [
       "     SBP  DBP  Pulse  Temperature  Level  S_new  D_new  P_new\n",
       "0    120   80     80           98      0  120.0   80.0   80.0\n",
       "1    140   83     75          100      1  140.0   83.0   75.0\n",
       "2    155  100     92          104      2  132.0  100.0   79.0\n",
       "3    115   82     79           97      0  115.0   82.0   79.0\n",
       "4    119   79     85          102      1  119.0   79.0   85.0\n",
       "..   ...  ...    ...          ...    ...    ...    ...    ...\n",
       "144  154   99     83          103      2  154.0   99.0   83.0\n",
       "145  118   77     73           98      0  118.0   77.0   73.0\n",
       "146  125   87     79          102      1  125.0   87.0   79.0\n",
       "147  132   88     78          101      1  132.0   88.0   78.0\n",
       "148  118   82     74           98      0  118.0   82.0   74.0\n",
       "\n",
       "[149 rows x 8 columns]"
      ]
     },
     "execution_count": 18,
     "metadata": {},
     "output_type": "execute_result"
    }
   ],
   "source": [
    "ds['P_new']=np.where(ds['Pulse']<=lw[2],ds['Pulse'].quantile(0.25),ds['Pulse'])\n",
    "ds['P_new']=np.where(ds['Pulse']>=uw[2],ds['Pulse'].quantile(0.75),ds['P_new'])\n",
    "ds"
   ]
  },
  {
   "cell_type": "code",
   "execution_count": 19,
   "metadata": {},
   "outputs": [
    {
     "data": {
      "text/html": [
       "<div>\n",
       "<style scoped>\n",
       "    .dataframe tbody tr th:only-of-type {\n",
       "        vertical-align: middle;\n",
       "    }\n",
       "\n",
       "    .dataframe tbody tr th {\n",
       "        vertical-align: top;\n",
       "    }\n",
       "\n",
       "    .dataframe thead th {\n",
       "        text-align: right;\n",
       "    }\n",
       "</style>\n",
       "<table border=\"1\" class=\"dataframe\">\n",
       "  <thead>\n",
       "    <tr style=\"text-align: right;\">\n",
       "      <th></th>\n",
       "      <th>SBP</th>\n",
       "      <th>DBP</th>\n",
       "      <th>Pulse</th>\n",
       "      <th>Temperature</th>\n",
       "      <th>Level</th>\n",
       "      <th>S_new</th>\n",
       "      <th>D_new</th>\n",
       "      <th>P_new</th>\n",
       "      <th>T_new</th>\n",
       "    </tr>\n",
       "  </thead>\n",
       "  <tbody>\n",
       "    <tr>\n",
       "      <th>0</th>\n",
       "      <td>120</td>\n",
       "      <td>80</td>\n",
       "      <td>80</td>\n",
       "      <td>98</td>\n",
       "      <td>0</td>\n",
       "      <td>120.0</td>\n",
       "      <td>80.0</td>\n",
       "      <td>80.0</td>\n",
       "      <td>98.0</td>\n",
       "    </tr>\n",
       "    <tr>\n",
       "      <th>1</th>\n",
       "      <td>140</td>\n",
       "      <td>83</td>\n",
       "      <td>75</td>\n",
       "      <td>100</td>\n",
       "      <td>1</td>\n",
       "      <td>140.0</td>\n",
       "      <td>83.0</td>\n",
       "      <td>75.0</td>\n",
       "      <td>100.0</td>\n",
       "    </tr>\n",
       "    <tr>\n",
       "      <th>2</th>\n",
       "      <td>155</td>\n",
       "      <td>100</td>\n",
       "      <td>92</td>\n",
       "      <td>104</td>\n",
       "      <td>2</td>\n",
       "      <td>132.0</td>\n",
       "      <td>100.0</td>\n",
       "      <td>79.0</td>\n",
       "      <td>104.0</td>\n",
       "    </tr>\n",
       "    <tr>\n",
       "      <th>3</th>\n",
       "      <td>115</td>\n",
       "      <td>82</td>\n",
       "      <td>79</td>\n",
       "      <td>97</td>\n",
       "      <td>0</td>\n",
       "      <td>115.0</td>\n",
       "      <td>82.0</td>\n",
       "      <td>79.0</td>\n",
       "      <td>97.0</td>\n",
       "    </tr>\n",
       "    <tr>\n",
       "      <th>4</th>\n",
       "      <td>119</td>\n",
       "      <td>79</td>\n",
       "      <td>85</td>\n",
       "      <td>102</td>\n",
       "      <td>1</td>\n",
       "      <td>119.0</td>\n",
       "      <td>79.0</td>\n",
       "      <td>85.0</td>\n",
       "      <td>102.0</td>\n",
       "    </tr>\n",
       "    <tr>\n",
       "      <th>...</th>\n",
       "      <td>...</td>\n",
       "      <td>...</td>\n",
       "      <td>...</td>\n",
       "      <td>...</td>\n",
       "      <td>...</td>\n",
       "      <td>...</td>\n",
       "      <td>...</td>\n",
       "      <td>...</td>\n",
       "      <td>...</td>\n",
       "    </tr>\n",
       "    <tr>\n",
       "      <th>144</th>\n",
       "      <td>154</td>\n",
       "      <td>99</td>\n",
       "      <td>83</td>\n",
       "      <td>103</td>\n",
       "      <td>2</td>\n",
       "      <td>154.0</td>\n",
       "      <td>99.0</td>\n",
       "      <td>83.0</td>\n",
       "      <td>103.0</td>\n",
       "    </tr>\n",
       "    <tr>\n",
       "      <th>145</th>\n",
       "      <td>118</td>\n",
       "      <td>77</td>\n",
       "      <td>73</td>\n",
       "      <td>98</td>\n",
       "      <td>0</td>\n",
       "      <td>118.0</td>\n",
       "      <td>77.0</td>\n",
       "      <td>73.0</td>\n",
       "      <td>98.0</td>\n",
       "    </tr>\n",
       "    <tr>\n",
       "      <th>146</th>\n",
       "      <td>125</td>\n",
       "      <td>87</td>\n",
       "      <td>79</td>\n",
       "      <td>102</td>\n",
       "      <td>1</td>\n",
       "      <td>125.0</td>\n",
       "      <td>87.0</td>\n",
       "      <td>79.0</td>\n",
       "      <td>102.0</td>\n",
       "    </tr>\n",
       "    <tr>\n",
       "      <th>147</th>\n",
       "      <td>132</td>\n",
       "      <td>88</td>\n",
       "      <td>78</td>\n",
       "      <td>101</td>\n",
       "      <td>1</td>\n",
       "      <td>132.0</td>\n",
       "      <td>88.0</td>\n",
       "      <td>78.0</td>\n",
       "      <td>101.0</td>\n",
       "    </tr>\n",
       "    <tr>\n",
       "      <th>148</th>\n",
       "      <td>118</td>\n",
       "      <td>82</td>\n",
       "      <td>74</td>\n",
       "      <td>98</td>\n",
       "      <td>0</td>\n",
       "      <td>118.0</td>\n",
       "      <td>82.0</td>\n",
       "      <td>74.0</td>\n",
       "      <td>98.0</td>\n",
       "    </tr>\n",
       "  </tbody>\n",
       "</table>\n",
       "<p>149 rows × 9 columns</p>\n",
       "</div>"
      ],
      "text/plain": [
       "     SBP  DBP  Pulse  Temperature  Level  S_new  D_new  P_new  T_new\n",
       "0    120   80     80           98      0  120.0   80.0   80.0   98.0\n",
       "1    140   83     75          100      1  140.0   83.0   75.0  100.0\n",
       "2    155  100     92          104      2  132.0  100.0   79.0  104.0\n",
       "3    115   82     79           97      0  115.0   82.0   79.0   97.0\n",
       "4    119   79     85          102      1  119.0   79.0   85.0  102.0\n",
       "..   ...  ...    ...          ...    ...    ...    ...    ...    ...\n",
       "144  154   99     83          103      2  154.0   99.0   83.0  103.0\n",
       "145  118   77     73           98      0  118.0   77.0   73.0   98.0\n",
       "146  125   87     79          102      1  125.0   87.0   79.0  102.0\n",
       "147  132   88     78          101      1  132.0   88.0   78.0  101.0\n",
       "148  118   82     74           98      0  118.0   82.0   74.0   98.0\n",
       "\n",
       "[149 rows x 9 columns]"
      ]
     },
     "execution_count": 19,
     "metadata": {},
     "output_type": "execute_result"
    }
   ],
   "source": [
    "ds['T_new']=np.where(ds['Temperature']<=lw[3],ds['Temperature'].quantile(0.25),ds['Temperature'])\n",
    "ds['T_new']=np.where(ds['Temperature']>=uw[3],ds['Temperature'].quantile(0.75),ds['T_new'])\n",
    "ds"
   ]
  },
  {
   "cell_type": "code",
   "execution_count": 20,
   "metadata": {},
   "outputs": [
    {
     "data": {
      "text/html": [
       "<div>\n",
       "<style scoped>\n",
       "    .dataframe tbody tr th:only-of-type {\n",
       "        vertical-align: middle;\n",
       "    }\n",
       "\n",
       "    .dataframe tbody tr th {\n",
       "        vertical-align: top;\n",
       "    }\n",
       "\n",
       "    .dataframe thead th {\n",
       "        text-align: right;\n",
       "    }\n",
       "</style>\n",
       "<table border=\"1\" class=\"dataframe\">\n",
       "  <thead>\n",
       "    <tr style=\"text-align: right;\">\n",
       "      <th></th>\n",
       "      <th>SBP</th>\n",
       "      <th>DBP</th>\n",
       "      <th>Pulse</th>\n",
       "      <th>Temperature</th>\n",
       "      <th>Level</th>\n",
       "      <th>S_new</th>\n",
       "      <th>D_new</th>\n",
       "      <th>P_new</th>\n",
       "      <th>T_new</th>\n",
       "    </tr>\n",
       "  </thead>\n",
       "  <tbody>\n",
       "    <tr>\n",
       "      <th>count</th>\n",
       "      <td>149.000000</td>\n",
       "      <td>149.000000</td>\n",
       "      <td>149.000000</td>\n",
       "      <td>149.000000</td>\n",
       "      <td>149.000000</td>\n",
       "      <td>149.000000</td>\n",
       "      <td>149.000000</td>\n",
       "      <td>149.000000</td>\n",
       "      <td>149.000000</td>\n",
       "    </tr>\n",
       "    <tr>\n",
       "      <th>mean</th>\n",
       "      <td>123.516779</td>\n",
       "      <td>81.261745</td>\n",
       "      <td>75.550336</td>\n",
       "      <td>99.926174</td>\n",
       "      <td>0.993289</td>\n",
       "      <td>123.362416</td>\n",
       "      <td>81.718121</td>\n",
       "      <td>75.543624</td>\n",
       "      <td>99.892617</td>\n",
       "    </tr>\n",
       "    <tr>\n",
       "      <th>std</th>\n",
       "      <td>14.486995</td>\n",
       "      <td>9.752613</td>\n",
       "      <td>5.344151</td>\n",
       "      <td>2.056939</td>\n",
       "      <td>0.850252</td>\n",
       "      <td>14.270180</td>\n",
       "      <td>9.120130</td>\n",
       "      <td>5.026260</td>\n",
       "      <td>1.997096</td>\n",
       "    </tr>\n",
       "    <tr>\n",
       "      <th>min</th>\n",
       "      <td>95.000000</td>\n",
       "      <td>60.000000</td>\n",
       "      <td>60.000000</td>\n",
       "      <td>94.000000</td>\n",
       "      <td>0.000000</td>\n",
       "      <td>95.000000</td>\n",
       "      <td>62.000000</td>\n",
       "      <td>62.000000</td>\n",
       "      <td>94.000000</td>\n",
       "    </tr>\n",
       "    <tr>\n",
       "      <th>25%</th>\n",
       "      <td>117.000000</td>\n",
       "      <td>77.000000</td>\n",
       "      <td>72.000000</td>\n",
       "      <td>98.000000</td>\n",
       "      <td>0.000000</td>\n",
       "      <td>117.000000</td>\n",
       "      <td>77.000000</td>\n",
       "      <td>72.000000</td>\n",
       "      <td>98.000000</td>\n",
       "    </tr>\n",
       "    <tr>\n",
       "      <th>50%</th>\n",
       "      <td>119.000000</td>\n",
       "      <td>80.000000</td>\n",
       "      <td>76.000000</td>\n",
       "      <td>100.000000</td>\n",
       "      <td>1.000000</td>\n",
       "      <td>119.000000</td>\n",
       "      <td>80.000000</td>\n",
       "      <td>76.000000</td>\n",
       "      <td>100.000000</td>\n",
       "    </tr>\n",
       "    <tr>\n",
       "      <th>75%</th>\n",
       "      <td>132.000000</td>\n",
       "      <td>88.000000</td>\n",
       "      <td>79.000000</td>\n",
       "      <td>101.000000</td>\n",
       "      <td>2.000000</td>\n",
       "      <td>132.000000</td>\n",
       "      <td>88.000000</td>\n",
       "      <td>79.000000</td>\n",
       "      <td>101.000000</td>\n",
       "    </tr>\n",
       "    <tr>\n",
       "      <th>max</th>\n",
       "      <td>155.000000</td>\n",
       "      <td>101.000000</td>\n",
       "      <td>92.000000</td>\n",
       "      <td>106.000000</td>\n",
       "      <td>2.000000</td>\n",
       "      <td>154.000000</td>\n",
       "      <td>101.000000</td>\n",
       "      <td>85.000000</td>\n",
       "      <td>105.000000</td>\n",
       "    </tr>\n",
       "  </tbody>\n",
       "</table>\n",
       "</div>"
      ],
      "text/plain": [
       "              SBP         DBP       Pulse  Temperature       Level  \\\n",
       "count  149.000000  149.000000  149.000000   149.000000  149.000000   \n",
       "mean   123.516779   81.261745   75.550336    99.926174    0.993289   \n",
       "std     14.486995    9.752613    5.344151     2.056939    0.850252   \n",
       "min     95.000000   60.000000   60.000000    94.000000    0.000000   \n",
       "25%    117.000000   77.000000   72.000000    98.000000    0.000000   \n",
       "50%    119.000000   80.000000   76.000000   100.000000    1.000000   \n",
       "75%    132.000000   88.000000   79.000000   101.000000    2.000000   \n",
       "max    155.000000  101.000000   92.000000   106.000000    2.000000   \n",
       "\n",
       "            S_new       D_new       P_new       T_new  \n",
       "count  149.000000  149.000000  149.000000  149.000000  \n",
       "mean   123.362416   81.718121   75.543624   99.892617  \n",
       "std     14.270180    9.120130    5.026260    1.997096  \n",
       "min     95.000000   62.000000   62.000000   94.000000  \n",
       "25%    117.000000   77.000000   72.000000   98.000000  \n",
       "50%    119.000000   80.000000   76.000000  100.000000  \n",
       "75%    132.000000   88.000000   79.000000  101.000000  \n",
       "max    154.000000  101.000000   85.000000  105.000000  "
      ]
     },
     "execution_count": 20,
     "metadata": {},
     "output_type": "execute_result"
    }
   ],
   "source": [
    "ds.describe()"
   ]
  },
  {
   "cell_type": "code",
   "execution_count": 21,
   "metadata": {},
   "outputs": [
    {
     "data": {
      "text/plain": [
       "<matplotlib.axes._subplots.AxesSubplot at 0x2adeec84a48>"
      ]
     },
     "execution_count": 21,
     "metadata": {},
     "output_type": "execute_result"
    },
    {
     "data": {
      "image/png": "[encoded data removed]",
      "text/plain": [
       "<Figure size 432x288 with 1 Axes>"
      ]
     },
     "metadata": {
      "needs_background": "light"
     },
     "output_type": "display_data"
    }
   ],
   "source": [
    "sns.boxplot(ds['SBP'])"
   ]
  },
  {
   "cell_type": "code",
   "execution_count": 22,
   "metadata": {},
   "outputs": [
    {
     "data": {
      "text/plain": [
       "<matplotlib.axes._subplots.AxesSubplot at 0x2adeece48c8>"
      ]
     },
     "execution_count": 22,
     "metadata": {},
     "output_type": "execute_result"
    },
    {
     "data": {
      "image/png": "[encoded data removed]",
      "text/plain": [
       "<Figure size 432x288 with 1 Axes>"
      ]
     },
     "metadata": {
      "needs_background": "light"
     },
     "output_type": "display_data"
    }
   ],
   "source": [
    "sns.boxplot(ds['S_new'])"
   ]
  },
  {
   "cell_type": "code",
   "execution_count": 23,
   "metadata": {},
   "outputs": [
    {
     "data": {
      "text/plain": [
       "<matplotlib.axes._subplots.AxesSubplot at 0x2adeed3f208>"
      ]
     },
     "execution_count": 23,
     "metadata": {},
     "output_type": "execute_result"
    },
    {
     "data": {
      "image/png": "[encoded data removed]",
      "text/plain": [
       "<Figure size 432x288 with 1 Axes>"
      ]
     },
     "metadata": {
      "needs_background": "light"
     },
     "output_type": "display_data"
    }
   ],
   "source": [
    "sns.boxplot(ds['DBP'])"
   ]
  },
  {
   "cell_type": "code",
   "execution_count": 24,
   "metadata": {},
   "outputs": [
    {
     "data": {
      "text/plain": [
       "<matplotlib.axes._subplots.AxesSubplot at 0x2adeedb6188>"
      ]
     },
     "execution_count": 24,
     "metadata": {},
     "output_type": "execute_result"
    },
    {
     "data": {
      "image/png": "[encoded data removed]",
      "text/plain": [
       "<Figure size 432x288 with 1 Axes>"
      ]
     },
     "metadata": {
      "needs_background": "light"
     },
     "output_type": "display_data"
    }
   ],
   "source": [
    "sns.boxplot(ds['D_new'])"
   ]
  },
  {
   "cell_type": "code",
   "execution_count": 25,
   "metadata": {},
   "outputs": [
    {
     "data": {
      "text/plain": [
       "<matplotlib.axes._subplots.AxesSubplot at 0x2adeee1fb08>"
      ]
     },
     "execution_count": 25,
     "metadata": {},
     "output_type": "execute_result"
    },
    {
     "data": {
      "image/png": "[encoded data removed]",
      "text/plain": [
       "<Figure size 432x288 with 1 Axes>"
      ]
     },
     "metadata": {
      "needs_background": "light"
     },
     "output_type": "display_data"
    }
   ],
   "source": [
    "sns.boxplot(ds['Pulse'])"
   ]
  },
  {
   "cell_type": "code",
   "execution_count": 26,
   "metadata": {},
   "outputs": [
    {
     "data": {
      "text/plain": [
       "<matplotlib.axes._subplots.AxesSubplot at 0x2adeee82988>"
      ]
     },
     "execution_count": 26,
     "metadata": {},
     "output_type": "execute_result"
    },
    {
     "data": {
      "image/png": "[encoded data removed]",
      "text/plain": [
       "<Figure size 432x288 with 1 Axes>"
      ]
     },
     "metadata": {
      "needs_background": "light"
     },
     "output_type": "display_data"
    }
   ],
   "source": [
    "sns.boxplot(ds['P_new'])"
   ]
  },
  {
   "cell_type": "code",
   "execution_count": 27,
   "metadata": {},
   "outputs": [
    {
     "data": {
      "text/plain": [
       "<matplotlib.axes._subplots.AxesSubplot at 0x2adeeee3388>"
      ]
     },
     "execution_count": 27,
     "metadata": {},
     "output_type": "execute_result"
    },
    {
     "data": {
      "image/png": "[encoded data removed]",
      "text/plain": [
       "<Figure size 432x288 with 1 Axes>"
      ]
     },
     "metadata": {
      "needs_background": "light"
     },
     "output_type": "display_data"
    }
   ],
   "source": [
    "sns.boxplot(ds['Temperature'])"
   ]
  },
  {
   "cell_type": "code",
   "execution_count": 28,
   "metadata": {},
   "outputs": [
    {
     "data": {
      "text/plain": [
       "<matplotlib.axes._subplots.AxesSubplot at 0x2adeef3d0c8>"
      ]
     },
     "execution_count": 28,
     "metadata": {},
     "output_type": "execute_result"
    },
    {
     "data": {
      "image/png": "[encoded data removed]",
      "text/plain": [
       "<Figure size 432x288 with 1 Axes>"
      ]
     },
     "metadata": {
      "needs_background": "light"
     },
     "output_type": "display_data"
    }
   ],
   "source": [
    "sns.boxplot(ds['T_new'])"
   ]
  },
  {
   "cell_type": "code",
   "execution_count": 29,
   "metadata": {},
   "outputs": [
    {
     "data": {
      "text/html": [
       "<div>\n",
       "<style scoped>\n",
       "    .dataframe tbody tr th:only-of-type {\n",
       "        vertical-align: middle;\n",
       "    }\n",
       "\n",
       "    .dataframe tbody tr th {\n",
       "        vertical-align: top;\n",
       "    }\n",
       "\n",
       "    .dataframe thead th {\n",
       "        text-align: right;\n",
       "    }\n",
       "</style>\n",
       "<table border=\"1\" class=\"dataframe\">\n",
       "  <thead>\n",
       "    <tr style=\"text-align: right;\">\n",
       "      <th></th>\n",
       "      <th>SBP</th>\n",
       "      <th>DBP</th>\n",
       "      <th>Pulse</th>\n",
       "      <th>Temperature</th>\n",
       "      <th>Level</th>\n",
       "      <th>S_new</th>\n",
       "      <th>D_new</th>\n",
       "      <th>P_new</th>\n",
       "      <th>T_new</th>\n",
       "    </tr>\n",
       "  </thead>\n",
       "  <tbody>\n",
       "    <tr>\n",
       "      <th>count</th>\n",
       "      <td>149.000000</td>\n",
       "      <td>149.000000</td>\n",
       "      <td>149.000000</td>\n",
       "      <td>149.000000</td>\n",
       "      <td>149.000000</td>\n",
       "      <td>149.000000</td>\n",
       "      <td>149.000000</td>\n",
       "      <td>149.000000</td>\n",
       "      <td>149.000000</td>\n",
       "    </tr>\n",
       "    <tr>\n",
       "      <th>mean</th>\n",
       "      <td>123.516779</td>\n",
       "      <td>81.261745</td>\n",
       "      <td>75.550336</td>\n",
       "      <td>99.926174</td>\n",
       "      <td>0.993289</td>\n",
       "      <td>123.362416</td>\n",
       "      <td>81.718121</td>\n",
       "      <td>75.543624</td>\n",
       "      <td>99.892617</td>\n",
       "    </tr>\n",
       "    <tr>\n",
       "      <th>std</th>\n",
       "      <td>14.486995</td>\n",
       "      <td>9.752613</td>\n",
       "      <td>5.344151</td>\n",
       "      <td>2.056939</td>\n",
       "      <td>0.850252</td>\n",
       "      <td>14.270180</td>\n",
       "      <td>9.120130</td>\n",
       "      <td>5.026260</td>\n",
       "      <td>1.997096</td>\n",
       "    </tr>\n",
       "    <tr>\n",
       "      <th>min</th>\n",
       "      <td>95.000000</td>\n",
       "      <td>60.000000</td>\n",
       "      <td>60.000000</td>\n",
       "      <td>94.000000</td>\n",
       "      <td>0.000000</td>\n",
       "      <td>95.000000</td>\n",
       "      <td>62.000000</td>\n",
       "      <td>62.000000</td>\n",
       "      <td>94.000000</td>\n",
       "    </tr>\n",
       "    <tr>\n",
       "      <th>25%</th>\n",
       "      <td>117.000000</td>\n",
       "      <td>77.000000</td>\n",
       "      <td>72.000000</td>\n",
       "      <td>98.000000</td>\n",
       "      <td>0.000000</td>\n",
       "      <td>117.000000</td>\n",
       "      <td>77.000000</td>\n",
       "      <td>72.000000</td>\n",
       "      <td>98.000000</td>\n",
       "    </tr>\n",
       "    <tr>\n",
       "      <th>50%</th>\n",
       "      <td>119.000000</td>\n",
       "      <td>80.000000</td>\n",
       "      <td>76.000000</td>\n",
       "      <td>100.000000</td>\n",
       "      <td>1.000000</td>\n",
       "      <td>119.000000</td>\n",
       "      <td>80.000000</td>\n",
       "      <td>76.000000</td>\n",
       "      <td>100.000000</td>\n",
       "    </tr>\n",
       "    <tr>\n",
       "      <th>75%</th>\n",
       "      <td>132.000000</td>\n",
       "      <td>88.000000</td>\n",
       "      <td>79.000000</td>\n",
       "      <td>101.000000</td>\n",
       "      <td>2.000000</td>\n",
       "      <td>132.000000</td>\n",
       "      <td>88.000000</td>\n",
       "      <td>79.000000</td>\n",
       "      <td>101.000000</td>\n",
       "    </tr>\n",
       "    <tr>\n",
       "      <th>max</th>\n",
       "      <td>155.000000</td>\n",
       "      <td>101.000000</td>\n",
       "      <td>92.000000</td>\n",
       "      <td>106.000000</td>\n",
       "      <td>2.000000</td>\n",
       "      <td>154.000000</td>\n",
       "      <td>101.000000</td>\n",
       "      <td>85.000000</td>\n",
       "      <td>105.000000</td>\n",
       "    </tr>\n",
       "  </tbody>\n",
       "</table>\n",
       "</div>"
      ],
      "text/plain": [
       "              SBP         DBP       Pulse  Temperature       Level  \\\n",
       "count  149.000000  149.000000  149.000000   149.000000  149.000000   \n",
       "mean   123.516779   81.261745   75.550336    99.926174    0.993289   \n",
       "std     14.486995    9.752613    5.344151     2.056939    0.850252   \n",
       "min     95.000000   60.000000   60.000000    94.000000    0.000000   \n",
       "25%    117.000000   77.000000   72.000000    98.000000    0.000000   \n",
       "50%    119.000000   80.000000   76.000000   100.000000    1.000000   \n",
       "75%    132.000000   88.000000   79.000000   101.000000    2.000000   \n",
       "max    155.000000  101.000000   92.000000   106.000000    2.000000   \n",
       "\n",
       "            S_new       D_new       P_new       T_new  \n",
       "count  149.000000  149.000000  149.000000  149.000000  \n",
       "mean   123.362416   81.718121   75.543624   99.892617  \n",
       "std     14.270180    9.120130    5.026260    1.997096  \n",
       "min     95.000000   62.000000   62.000000   94.000000  \n",
       "25%    117.000000   77.000000   72.000000   98.000000  \n",
       "50%    119.000000   80.000000   76.000000  100.000000  \n",
       "75%    132.000000   88.000000   79.000000  101.000000  \n",
       "max    154.000000  101.000000   85.000000  105.000000  "
      ]
     },
     "execution_count": 29,
     "metadata": {},
     "output_type": "execute_result"
    }
   ],
   "source": [
    "ds.describe()"
   ]
  },
  {
   "cell_type": "markdown",
   "metadata": {},
   "source": [
    "# The final data after removing outliers"
   ]
  },
  {
   "cell_type": "raw",
   "metadata": {},
   "source": [
    "note:\n",
    "    the data after removing outliers are present in the columns starting \n",
    "    from Level column.The data before the Level column is the original data"
   ]
  },
  {
   "cell_type": "code",
   "execution_count": 30,
   "metadata": {},
   "outputs": [
    {
     "data": {
      "text/html": [
       "<div>\n",
       "<style scoped>\n",
       "    .dataframe tbody tr th:only-of-type {\n",
       "        vertical-align: middle;\n",
       "    }\n",
       "\n",
       "    .dataframe tbody tr th {\n",
       "        vertical-align: top;\n",
       "    }\n",
       "\n",
       "    .dataframe thead th {\n",
       "        text-align: right;\n",
       "    }\n",
       "</style>\n",
       "<table border=\"1\" class=\"dataframe\">\n",
       "  <thead>\n",
       "    <tr style=\"text-align: right;\">\n",
       "      <th></th>\n",
       "      <th>SBP</th>\n",
       "      <th>DBP</th>\n",
       "      <th>Pulse</th>\n",
       "      <th>Temperature</th>\n",
       "      <th>Level</th>\n",
       "      <th>S_new</th>\n",
       "      <th>D_new</th>\n",
       "      <th>P_new</th>\n",
       "      <th>T_new</th>\n",
       "    </tr>\n",
       "  </thead>\n",
       "  <tbody>\n",
       "    <tr>\n",
       "      <th>0</th>\n",
       "      <td>120</td>\n",
       "      <td>80</td>\n",
       "      <td>80</td>\n",
       "      <td>98</td>\n",
       "      <td>0</td>\n",
       "      <td>120.0</td>\n",
       "      <td>80.0</td>\n",
       "      <td>80.0</td>\n",
       "      <td>98.0</td>\n",
       "    </tr>\n",
       "    <tr>\n",
       "      <th>1</th>\n",
       "      <td>140</td>\n",
       "      <td>83</td>\n",
       "      <td>75</td>\n",
       "      <td>100</td>\n",
       "      <td>1</td>\n",
       "      <td>140.0</td>\n",
       "      <td>83.0</td>\n",
       "      <td>75.0</td>\n",
       "      <td>100.0</td>\n",
       "    </tr>\n",
       "    <tr>\n",
       "      <th>2</th>\n",
       "      <td>155</td>\n",
       "      <td>100</td>\n",
       "      <td>92</td>\n",
       "      <td>104</td>\n",
       "      <td>2</td>\n",
       "      <td>132.0</td>\n",
       "      <td>100.0</td>\n",
       "      <td>79.0</td>\n",
       "      <td>104.0</td>\n",
       "    </tr>\n",
       "    <tr>\n",
       "      <th>3</th>\n",
       "      <td>115</td>\n",
       "      <td>82</td>\n",
       "      <td>79</td>\n",
       "      <td>97</td>\n",
       "      <td>0</td>\n",
       "      <td>115.0</td>\n",
       "      <td>82.0</td>\n",
       "      <td>79.0</td>\n",
       "      <td>97.0</td>\n",
       "    </tr>\n",
       "    <tr>\n",
       "      <th>4</th>\n",
       "      <td>119</td>\n",
       "      <td>79</td>\n",
       "      <td>85</td>\n",
       "      <td>102</td>\n",
       "      <td>1</td>\n",
       "      <td>119.0</td>\n",
       "      <td>79.0</td>\n",
       "      <td>85.0</td>\n",
       "      <td>102.0</td>\n",
       "    </tr>\n",
       "    <tr>\n",
       "      <th>...</th>\n",
       "      <td>...</td>\n",
       "      <td>...</td>\n",
       "      <td>...</td>\n",
       "      <td>...</td>\n",
       "      <td>...</td>\n",
       "      <td>...</td>\n",
       "      <td>...</td>\n",
       "      <td>...</td>\n",
       "      <td>...</td>\n",
       "    </tr>\n",
       "    <tr>\n",
       "      <th>144</th>\n",
       "      <td>154</td>\n",
       "      <td>99</td>\n",
       "      <td>83</td>\n",
       "      <td>103</td>\n",
       "      <td>2</td>\n",
       "      <td>154.0</td>\n",
       "      <td>99.0</td>\n",
       "      <td>83.0</td>\n",
       "      <td>103.0</td>\n",
       "    </tr>\n",
       "    <tr>\n",
       "      <th>145</th>\n",
       "      <td>118</td>\n",
       "      <td>77</td>\n",
       "      <td>73</td>\n",
       "      <td>98</td>\n",
       "      <td>0</td>\n",
       "      <td>118.0</td>\n",
       "      <td>77.0</td>\n",
       "      <td>73.0</td>\n",
       "      <td>98.0</td>\n",
       "    </tr>\n",
       "    <tr>\n",
       "      <th>146</th>\n",
       "      <td>125</td>\n",
       "      <td>87</td>\n",
       "      <td>79</td>\n",
       "      <td>102</td>\n",
       "      <td>1</td>\n",
       "      <td>125.0</td>\n",
       "      <td>87.0</td>\n",
       "      <td>79.0</td>\n",
       "      <td>102.0</td>\n",
       "    </tr>\n",
       "    <tr>\n",
       "      <th>147</th>\n",
       "      <td>132</td>\n",
       "      <td>88</td>\n",
       "      <td>78</td>\n",
       "      <td>101</td>\n",
       "      <td>1</td>\n",
       "      <td>132.0</td>\n",
       "      <td>88.0</td>\n",
       "      <td>78.0</td>\n",
       "      <td>101.0</td>\n",
       "    </tr>\n",
       "    <tr>\n",
       "      <th>148</th>\n",
       "      <td>118</td>\n",
       "      <td>82</td>\n",
       "      <td>74</td>\n",
       "      <td>98</td>\n",
       "      <td>0</td>\n",
       "      <td>118.0</td>\n",
       "      <td>82.0</td>\n",
       "      <td>74.0</td>\n",
       "      <td>98.0</td>\n",
       "    </tr>\n",
       "  </tbody>\n",
       "</table>\n",
       "<p>149 rows × 9 columns</p>\n",
       "</div>"
      ],
      "text/plain": [
       "     SBP  DBP  Pulse  Temperature  Level  S_new  D_new  P_new  T_new\n",
       "0    120   80     80           98      0  120.0   80.0   80.0   98.0\n",
       "1    140   83     75          100      1  140.0   83.0   75.0  100.0\n",
       "2    155  100     92          104      2  132.0  100.0   79.0  104.0\n",
       "3    115   82     79           97      0  115.0   82.0   79.0   97.0\n",
       "4    119   79     85          102      1  119.0   79.0   85.0  102.0\n",
       "..   ...  ...    ...          ...    ...    ...    ...    ...    ...\n",
       "144  154   99     83          103      2  154.0   99.0   83.0  103.0\n",
       "145  118   77     73           98      0  118.0   77.0   73.0   98.0\n",
       "146  125   87     79          102      1  125.0   87.0   79.0  102.0\n",
       "147  132   88     78          101      1  132.0   88.0   78.0  101.0\n",
       "148  118   82     74           98      0  118.0   82.0   74.0   98.0\n",
       "\n",
       "[149 rows x 9 columns]"
      ]
     },
     "execution_count": 30,
     "metadata": {},
     "output_type": "execute_result"
    }
   ],
   "source": [
    "ds"
   ]
  },
  {
   "cell_type": "raw",
   "metadata": {},
   "source": [
    "step 5:seperating independent and dependent variables"
   ]
  },
  {
   "cell_type": "code",
   "execution_count": 31,
   "metadata": {},
   "outputs": [
    {
     "data": {
      "text/plain": [
       "array([[120.,  80.,  80.,  98.],\n",
       "       [140.,  83.,  75., 100.],\n",
       "       [132., 100.,  79., 104.],\n",
       "       [115.,  82.,  79.,  97.],\n",
       "       [119.,  79.,  85., 102.],\n",
       "       [ 95.,  65.,  75., 101.],\n",
       "       [116.,  75.,  70.,  99.],\n",
       "       [100.,  77.,  79.,  98.],\n",
       "       [119.,  78.,  68., 100.],\n",
       "       [110.,  69.,  65., 102.],\n",
       "       [117.,  73.,  76.,  99.],\n",
       "       [130.,  88.,  84., 101.],\n",
       "       [145.,  90.,  82., 104.],\n",
       "       [118.,  75.,  75.,  99.],\n",
       "       [114.,  76.,  69.,  98.],\n",
       "       [105.,  65.,  72., 102.],\n",
       "       [132.,  89.,  76., 101.],\n",
       "       [135.,  87.,  76., 100.],\n",
       "       [140.,  91.,  80., 102.],\n",
       "       [119.,  78.,  70.,  99.],\n",
       "       [116.,  77.,  74.,  98.],\n",
       "       [106.,  68.,  79., 103.],\n",
       "       [129.,  89.,  82., 100.],\n",
       "       [126.,  90.,  80., 101.],\n",
       "       [147.,  95.,  84., 104.],\n",
       "       [116.,  78.,  70.,  98.],\n",
       "       [118.,  76.,  68.,  99.],\n",
       "       [128.,  87.,  80., 100.],\n",
       "       [130.,  85.,  82., 101.],\n",
       "       [148.,  92.,  84., 104.],\n",
       "       [100.,  65.,  62.,  95.],\n",
       "       [ 99.,  77.,  65.,  94.],\n",
       "       [119.,  78.,  74.,  98.],\n",
       "       [117.,  79.,  76.,  99.],\n",
       "       [116.,  80.,  74.,  98.],\n",
       "       [115.,  78.,  68.,  99.],\n",
       "       [126.,  85.,  79., 100.],\n",
       "       [127.,  89.,  80.,  98.],\n",
       "       [128.,  88.,  79., 101.],\n",
       "       [120.,  78.,  70., 105.],\n",
       "       [118.,  79.,  76., 101.],\n",
       "       [100.,  65.,  79., 100.],\n",
       "       [119.,  76.,  72.,  98.],\n",
       "       [118.,  79.,  70.,  99.],\n",
       "       [117.,  78.,  75.,  98.],\n",
       "       [145.,  92.,  82., 101.],\n",
       "       [146.,  90.,  80., 104.],\n",
       "       [127.,  85.,  79., 100.],\n",
       "       [126.,  88.,  78.,  98.],\n",
       "       [120.,  76.,  70.,  98.],\n",
       "       [118.,  79.,  76., 100.],\n",
       "       [140.,  99.,  85., 102.],\n",
       "       [128.,  88.,  77.,  98.],\n",
       "       [126.,  87.,  76.,  99.],\n",
       "       [119.,  78.,  70.,  98.],\n",
       "       [118.,  77.,  75.,  99.],\n",
       "       [104.,  68.,  79., 101.],\n",
       "       [100.,  64.,  69., 104.],\n",
       "       [142.,  93.,  80., 102.],\n",
       "       [126.,  85.,  79.,  99.],\n",
       "       [127.,  84.,  75., 100.],\n",
       "       [118.,  81.,  72.,  98.],\n",
       "       [120.,  78.,  70.,  99.],\n",
       "       [119.,  80.,  75.,  98.],\n",
       "       [118.,  78.,  69.,  98.],\n",
       "       [127.,  83.,  79., 100.],\n",
       "       [128.,  86.,  64., 101.],\n",
       "       [149.,  96.,  82., 103.],\n",
       "       [148.,  95.,  80., 102.],\n",
       "       [ 98.,  77.,  64., 101.],\n",
       "       [101.,  68.,  67., 104.],\n",
       "       [126.,  85.,  76., 100.],\n",
       "       [127.,  87.,  78.,  98.],\n",
       "       [128.,  88.,  77.,  99.],\n",
       "       [120.,  79.,  75.,  98.],\n",
       "       [119.,  78.,  72.,  98.],\n",
       "       [118.,  77.,  70.,  99.],\n",
       "       [101.,  67.,  78., 100.],\n",
       "       [104.,  68.,  79., 101.],\n",
       "       [105.,  69.,  76.,  99.],\n",
       "       [100.,  63.,  80., 103.],\n",
       "       [114.,  78.,  75.,  98.],\n",
       "       [116.,  79.,  74.,  98.],\n",
       "       [117.,  80.,  73.,  99.],\n",
       "       [115.,  78.,  70.,  98.],\n",
       "       [150.,  96.,  82., 102.],\n",
       "       [151.,  95.,  80., 100.],\n",
       "       [149.,  94.,  83.,  99.],\n",
       "       [124.,  84.,  76.,  98.],\n",
       "       [120.,  80.,  76.,  98.],\n",
       "       [119.,  78.,  70.,  98.],\n",
       "       [118.,  76.,  74.,  98.],\n",
       "       [117.,  79.,  73.,  98.],\n",
       "       [118.,  79.,  76., 105.],\n",
       "       [120.,  80.,  75., 105.],\n",
       "       [117.,  77.,  85., 100.],\n",
       "       [107.,  65.,  80., 102.],\n",
       "       [ 99.,  66.,  79., 102.],\n",
       "       [118.,  79.,  73.,  99.],\n",
       "       [131.,  86.,  76.,  98.],\n",
       "       [132.,  87.,  77.,  98.],\n",
       "       [132.,  86.,  75., 102.],\n",
       "       [133.,  92.,  79., 100.],\n",
       "       [134.,  87.,  78.,  99.],\n",
       "       [135.,  89.,  80., 100.],\n",
       "       [136.,  90.,  79., 101.],\n",
       "       [101.,  68.,  70.,  99.],\n",
       "       [102.,  67.,  65., 101.],\n",
       "       [ 99.,  68.,  66., 102.],\n",
       "       [145., 100.,  75., 100.],\n",
       "       [146., 101.,  82., 101.],\n",
       "       [146.,  95.,  81., 100.],\n",
       "       [152.,  98.,  75.,  99.],\n",
       "       [154.,  99.,  79., 100.],\n",
       "       [118.,  79.,  71.,  98.],\n",
       "       [119.,  76.,  70.,  99.],\n",
       "       [120.,  78.,  69.,  98.],\n",
       "       [117.,  79.,  68.,  98.],\n",
       "       [116.,  80.,  70.,  98.],\n",
       "       [119.,  80.,  73.,  99.],\n",
       "       [119.,  79.,  70.,  98.],\n",
       "       [125.,  85.,  75., 100.],\n",
       "       [126.,  87.,  77., 101.],\n",
       "       [128.,  88.,  79., 101.],\n",
       "       [130.,  85.,  76., 100.],\n",
       "       [148.,  90.,  76., 101.],\n",
       "       [147.,  92.,  80.,  99.],\n",
       "       [153., 101.,  81., 102.],\n",
       "       [151.,  99.,  82., 103.],\n",
       "       [118.,  78.,  68.,  98.],\n",
       "       [119.,  79.,  70.,  98.],\n",
       "       [120.,  78.,  71.,  99.],\n",
       "       [119.,  78.,  74.,  98.],\n",
       "       [ 98.,  64.,  76.,  98.],\n",
       "       [104.,  67.,  84., 103.],\n",
       "       [106.,  62.,  78., 102.],\n",
       "       [130.,  87.,  76., 100.],\n",
       "       [116.,  78.,  73.,  98.],\n",
       "       [118.,  79.,  69.,  98.],\n",
       "       [117.,  77.,  74.,  98.],\n",
       "       [134.,  86.,  78., 100.],\n",
       "       [136.,  87.,  80., 101.],\n",
       "       [139.,  88.,  81., 100.],\n",
       "       [147.,  94.,  79., 100.],\n",
       "       [154.,  99.,  83., 103.],\n",
       "       [118.,  77.,  73.,  98.],\n",
       "       [125.,  87.,  79., 102.],\n",
       "       [132.,  88.,  78., 101.],\n",
       "       [118.,  82.,  74.,  98.]])"
      ]
     },
     "execution_count": 31,
     "metadata": {},
     "output_type": "execute_result"
    }
   ],
   "source": [
    "x_new=ds.iloc[:,5:9].values\n",
    "x_new"
   ]
  },
  {
   "cell_type": "code",
   "execution_count": 32,
   "metadata": {},
   "outputs": [
    {
     "data": {
      "text/plain": [
       "array([0, 1, 2, 0, 1, 2, 0, 2, 0, 2, 0, 1, 2, 0, 0, 2, 1, 1, 2, 0, 0, 2,\n",
       "       1, 1, 2, 0, 0, 1, 1, 2, 2, 2, 0, 0, 0, 0, 1, 1, 1, 2, 2, 2, 0, 0,\n",
       "       0, 2, 2, 1, 1, 0, 0, 2, 1, 1, 0, 0, 2, 2, 2, 1, 1, 0, 0, 0, 0, 1,\n",
       "       1, 2, 2, 2, 2, 1, 1, 1, 0, 0, 0, 2, 2, 2, 2, 0, 0, 0, 0, 2, 2, 2,\n",
       "       1, 0, 0, 0, 0, 2, 2, 1, 2, 2, 0, 1, 1, 1, 1, 1, 1, 1, 2, 2, 2, 2,\n",
       "       2, 2, 2, 2, 0, 0, 0, 0, 0, 0, 0, 1, 1, 1, 1, 2, 2, 2, 2, 0, 0, 0,\n",
       "       0, 2, 2, 2, 1, 0, 0, 0, 1, 1, 1, 2, 2, 0, 1, 1, 0], dtype=int64)"
      ]
     },
     "execution_count": 32,
     "metadata": {},
     "output_type": "execute_result"
    }
   ],
   "source": [
    "y=ds.iloc[:,4].values\n",
    "y"
   ]
  },
  {
   "cell_type": "raw",
   "metadata": {},
   "source": [
    "note:\n",
    "    description of the variables"
   ]
  },
  {
   "cell_type": "code",
   "execution_count": 33,
   "metadata": {},
   "outputs": [
    {
     "data": {
      "text/plain": [
       "2"
      ]
     },
     "execution_count": 33,
     "metadata": {},
     "output_type": "execute_result"
    }
   ],
   "source": [
    "x_new.ndim"
   ]
  },
  {
   "cell_type": "code",
   "execution_count": 34,
   "metadata": {},
   "outputs": [
    {
     "data": {
      "text/plain": [
       "1"
      ]
     },
     "execution_count": 34,
     "metadata": {},
     "output_type": "execute_result"
    }
   ],
   "source": [
    "y.ndim"
   ]
  },
  {
   "cell_type": "code",
   "execution_count": 35,
   "metadata": {},
   "outputs": [
    {
     "data": {
      "text/plain": [
       "(149, 4)"
      ]
     },
     "execution_count": 35,
     "metadata": {},
     "output_type": "execute_result"
    }
   ],
   "source": [
    "x_new.shape"
   ]
  },
  {
   "cell_type": "code",
   "execution_count": 36,
   "metadata": {},
   "outputs": [
    {
     "data": {
      "text/plain": [
       "(149,)"
      ]
     },
     "execution_count": 36,
     "metadata": {},
     "output_type": "execute_result"
    }
   ],
   "source": [
    "y.shape"
   ]
  },
  {
   "cell_type": "code",
   "execution_count": 37,
   "metadata": {},
   "outputs": [
    {
     "data": {
      "text/plain": [
       "(array([54.,  0.,  0.,  0.,  0., 42.,  0.,  0.,  0., 53.]),\n",
       " array([0. , 0.2, 0.4, 0.6, 0.8, 1. , 1.2, 1.4, 1.6, 1.8, 2. ]),\n",
       " <a list of 10 Patch objects>)"
      ]
     },
     "execution_count": 37,
     "metadata": {},
     "output_type": "execute_result"
    },
    {
     "data": {
      "image/png": "[encoded data removed]",
      "text/plain": [
       "<Figure size 432x288 with 1 Axes>"
      ]
     },
     "metadata": {
      "needs_background": "light"
     },
     "output_type": "display_data"
    }
   ],
   "source": [
    "plt.hist(y)"
   ]
  },
  {
   "cell_type": "code",
   "execution_count": 38,
   "metadata": {},
   "outputs": [
    {
     "data": {
      "text/plain": [
       "0    54\n",
       "2    53\n",
       "1    42\n",
       "Name: Level, dtype: int64"
      ]
     },
     "execution_count": 38,
     "metadata": {},
     "output_type": "execute_result"
    }
   ],
   "source": [
    "ds['Level'].value_counts()"
   ]
  },
  {
   "cell_type": "raw",
   "metadata": {},
   "source": [
    "step 6:splitting train and test data"
   ]
  },
  {
   "cell_type": "code",
   "execution_count": 39,
   "metadata": {},
   "outputs": [],
   "source": [
    "from sklearn.model_selection import train_test_split"
   ]
  },
  {
   "cell_type": "raw",
   "metadata": {},
   "source": [
    "note:\n",
    "    we are considering 75% data as train data and 25% data as test data from the given dataset"
   ]
  },
  {
   "cell_type": "code",
   "execution_count": 40,
   "metadata": {},
   "outputs": [],
   "source": [
    "x_new_train,x_new_test,y_train,y_test=train_test_split(x_new,y,test_size=0.25,random_state=0)"
   ]
  },
  {
   "cell_type": "raw",
   "metadata": {},
   "source": [
    "note:\n",
    "    description of the data"
   ]
  },
  {
   "cell_type": "code",
   "execution_count": 41,
   "metadata": {},
   "outputs": [
    {
     "data": {
      "text/plain": [
       "array([[140.,  99.,  85., 102.],\n",
       "       [132., 100.,  79., 104.],\n",
       "       [125.,  87.,  79., 102.],\n",
       "       [117.,  73.,  76.,  99.],\n",
       "       [104.,  68.,  79., 101.],\n",
       "       [154.,  99.,  79., 100.],\n",
       "       [147.,  94.,  79., 100.],\n",
       "       [120.,  78.,  69.,  98.],\n",
       "       [128.,  86.,  64., 101.],\n",
       "       [104.,  68.,  79., 101.],\n",
       "       [126.,  85.,  76., 100.],\n",
       "       [120.,  78.,  71.,  99.],\n",
       "       [119.,  79.,  70.,  98.],\n",
       "       [120.,  80.,  76.,  98.],\n",
       "       [118.,  77.,  73.,  98.],\n",
       "       [132.,  87.,  77.,  98.],\n",
       "       [118.,  79.,  76., 100.],\n",
       "       [147.,  92.,  80.,  99.],\n",
       "       [127.,  84.,  75., 100.],\n",
       "       [100.,  65.,  62.,  95.],\n",
       "       [119.,  80.,  75.,  98.],\n",
       "       [118.,  76.,  74.,  98.],\n",
       "       [117.,  80.,  73.,  99.],\n",
       "       [151.,  95.,  80., 100.],\n",
       "       [128.,  88.,  79., 101.],\n",
       "       [118.,  79.,  73.,  99.],\n",
       "       [126.,  87.,  77., 101.],\n",
       "       [126.,  88.,  78.,  98.],\n",
       "       [118.,  75.,  75.,  99.],\n",
       "       [ 99.,  68.,  66., 102.],\n",
       "       [117.,  79.,  73.,  98.],\n",
       "       [116.,  77.,  74.,  98.],\n",
       "       [105.,  65.,  72., 102.],\n",
       "       [128.,  88.,  77.,  98.],\n",
       "       [115.,  82.,  79.,  97.],\n",
       "       [153., 101.,  81., 102.],\n",
       "       [118.,  77.,  70.,  99.],\n",
       "       [116.,  75.,  70.,  99.],\n",
       "       [148.,  95.,  80., 102.],\n",
       "       [101.,  68.,  70.,  99.],\n",
       "       [118.,  79.,  76., 105.],\n",
       "       [145.,  90.,  82., 104.],\n",
       "       [130.,  85.,  76., 100.],\n",
       "       [132.,  88.,  78., 101.],\n",
       "       [132.,  86.,  75., 102.],\n",
       "       [148.,  90.,  76., 101.],\n",
       "       [146.,  90.,  80., 104.],\n",
       "       [130.,  88.,  84., 101.],\n",
       "       [102.,  67.,  65., 101.],\n",
       "       [152.,  98.,  75.,  99.],\n",
       "       [100.,  65.,  79., 100.],\n",
       "       [118.,  79.,  71.,  98.],\n",
       "       [140.,  83.,  75., 100.],\n",
       "       [146., 101.,  82., 101.],\n",
       "       [118.,  79.,  69.,  98.],\n",
       "       [119.,  76.,  72.,  98.],\n",
       "       [119.,  79.,  85., 102.],\n",
       "       [151.,  99.,  82., 103.],\n",
       "       [135.,  87.,  76., 100.],\n",
       "       [128.,  88.,  79., 101.],\n",
       "       [ 95.,  65.,  75., 101.],\n",
       "       [126.,  87.,  76.,  99.],\n",
       "       [139.,  88.,  81., 100.],\n",
       "       [133.,  92.,  79., 100.],\n",
       "       [120.,  80.,  80.,  98.],\n",
       "       [116.,  80.,  74.,  98.],\n",
       "       [130.,  85.,  82., 101.],\n",
       "       [118.,  77.,  75.,  99.],\n",
       "       [119.,  78.,  72.,  98.],\n",
       "       [115.,  78.,  68.,  99.],\n",
       "       [126.,  90.,  80., 101.],\n",
       "       [120.,  79.,  75.,  98.],\n",
       "       [ 99.,  77.,  65.,  94.],\n",
       "       [125.,  85.,  75., 100.],\n",
       "       [100.,  64.,  69., 104.],\n",
       "       [119.,  79.,  70.,  98.],\n",
       "       [127.,  83.,  79., 100.],\n",
       "       [119.,  78.,  74.,  98.],\n",
       "       [116.,  78.,  73.,  98.],\n",
       "       [114.,  76.,  69.,  98.],\n",
       "       [119.,  80.,  73.,  99.],\n",
       "       [119.,  78.,  70.,  99.],\n",
       "       [148.,  92.,  84., 104.],\n",
       "       [118.,  78.,  68.,  98.],\n",
       "       [120.,  76.,  70.,  98.],\n",
       "       [106.,  62.,  78., 102.],\n",
       "       [131.,  86.,  76.,  98.],\n",
       "       [116.,  79.,  74.,  98.],\n",
       "       [118.,  78.,  69.,  98.],\n",
       "       [118.,  82.,  74.,  98.],\n",
       "       [105.,  69.,  76.,  99.],\n",
       "       [119.,  76.,  70.,  99.],\n",
       "       [154.,  99.,  83., 103.],\n",
       "       [127.,  87.,  78.,  98.],\n",
       "       [101.,  67.,  78., 100.],\n",
       "       [116.,  78.,  70.,  98.],\n",
       "       [114.,  78.,  75.,  98.],\n",
       "       [117.,  77.,  74.,  98.],\n",
       "       [136.,  87.,  80., 101.],\n",
       "       [120.,  78.,  70., 105.],\n",
       "       [142.,  93.,  80., 102.],\n",
       "       [124.,  84.,  76.,  98.],\n",
       "       [101.,  68.,  67., 104.],\n",
       "       [149.,  94.,  83.,  99.],\n",
       "       [126.,  85.,  79., 100.],\n",
       "       [106.,  68.,  79., 103.],\n",
       "       [110.,  69.,  65., 102.],\n",
       "       [134.,  87.,  78.,  99.],\n",
       "       [149.,  96.,  82., 103.],\n",
       "       [117.,  79.,  68.,  98.],\n",
       "       [127.,  85.,  79., 100.]])"
      ]
     },
     "execution_count": 41,
     "metadata": {},
     "output_type": "execute_result"
    }
   ],
   "source": [
    "x_new_train"
   ]
  },
  {
   "cell_type": "code",
   "execution_count": 42,
   "metadata": {},
   "outputs": [
    {
     "data": {
      "text/plain": [
       "array([2, 2, 1, 0, 2, 2, 2, 0, 1, 2, 1, 0, 0, 0, 0, 1, 0, 2, 1, 2, 0, 0,\n",
       "       0, 2, 1, 0, 1, 1, 0, 2, 0, 0, 2, 1, 0, 2, 0, 0, 2, 2, 2, 2, 1, 1,\n",
       "       1, 2, 2, 1, 2, 2, 2, 0, 1, 2, 0, 0, 1, 2, 1, 1, 2, 1, 1, 1, 0, 0,\n",
       "       1, 0, 0, 0, 1, 0, 2, 1, 2, 0, 1, 0, 0, 0, 0, 0, 2, 0, 0, 2, 1, 0,\n",
       "       0, 0, 2, 0, 2, 1, 2, 0, 0, 0, 1, 2, 2, 1, 2, 2, 1, 2, 2, 1, 2, 0,\n",
       "       1], dtype=int64)"
      ]
     },
     "execution_count": 42,
     "metadata": {},
     "output_type": "execute_result"
    }
   ],
   "source": [
    "y_train"
   ]
  },
  {
   "cell_type": "code",
   "execution_count": 43,
   "metadata": {},
   "outputs": [
    {
     "data": {
      "text/plain": [
       "array([[ 98.,  64.,  76.,  98.],\n",
       "       [145., 100.,  75., 100.],\n",
       "       [126.,  85.,  79.,  99.],\n",
       "       [100.,  63.,  80., 103.],\n",
       "       [100.,  77.,  79.,  98.],\n",
       "       [135.,  89.,  80., 100.],\n",
       "       [134.,  86.,  78., 100.],\n",
       "       [117.,  77.,  85., 100.],\n",
       "       [116.,  80.,  70.,  98.],\n",
       "       [115.,  78.,  70.,  98.],\n",
       "       [117.,  79.,  76.,  99.],\n",
       "       [117.,  78.,  75.,  98.],\n",
       "       [119.,  78.,  70.,  98.],\n",
       "       [147.,  95.,  84., 104.],\n",
       "       [127.,  89.,  80.,  98.],\n",
       "       [119.,  78.,  74.,  98.],\n",
       "       [146.,  95.,  81., 100.],\n",
       "       [128.,  88.,  77.,  99.],\n",
       "       [132.,  89.,  76., 101.],\n",
       "       [145.,  92.,  82., 101.],\n",
       "       [118.,  79.,  76., 101.],\n",
       "       [119.,  78.,  68., 100.],\n",
       "       [150.,  96.,  82., 102.],\n",
       "       [129.,  89.,  82., 100.],\n",
       "       [120.,  78.,  70.,  99.],\n",
       "       [120.,  80.,  75., 105.],\n",
       "       [119.,  78.,  70.,  98.],\n",
       "       [118.,  76.,  68.,  99.],\n",
       "       [118.,  79.,  70.,  99.],\n",
       "       [104.,  67.,  84., 103.],\n",
       "       [128.,  87.,  80., 100.],\n",
       "       [ 99.,  66.,  79., 102.],\n",
       "       [107.,  65.,  80., 102.],\n",
       "       [ 98.,  77.,  64., 101.],\n",
       "       [140.,  91.,  80., 102.],\n",
       "       [136.,  90.,  79., 101.],\n",
       "       [130.,  87.,  76., 100.],\n",
       "       [118.,  81.,  72.,  98.]])"
      ]
     },
     "execution_count": 43,
     "metadata": {},
     "output_type": "execute_result"
    }
   ],
   "source": [
    "x_new_test"
   ]
  },
  {
   "cell_type": "code",
   "execution_count": 44,
   "metadata": {},
   "outputs": [
    {
     "data": {
      "text/plain": [
       "array([2, 2, 1, 2, 2, 1, 1, 1, 0, 0, 0, 0, 0, 2, 1, 0, 2, 1, 1, 2, 2, 0,\n",
       "       2, 1, 0, 2, 0, 0, 0, 2, 1, 2, 2, 2, 2, 1, 1, 0], dtype=int64)"
      ]
     },
     "execution_count": 44,
     "metadata": {},
     "output_type": "execute_result"
    }
   ],
   "source": [
    "y_test"
   ]
  },
  {
   "cell_type": "code",
   "execution_count": 45,
   "metadata": {},
   "outputs": [
    {
     "data": {
      "text/plain": [
       "(111, 4)"
      ]
     },
     "execution_count": 45,
     "metadata": {},
     "output_type": "execute_result"
    }
   ],
   "source": [
    "x_new_train.shape"
   ]
  },
  {
   "cell_type": "code",
   "execution_count": 46,
   "metadata": {},
   "outputs": [
    {
     "data": {
      "text/plain": [
       "(111,)"
      ]
     },
     "execution_count": 46,
     "metadata": {},
     "output_type": "execute_result"
    }
   ],
   "source": [
    "y_train.shape"
   ]
  },
  {
   "cell_type": "code",
   "execution_count": 47,
   "metadata": {},
   "outputs": [
    {
     "data": {
      "text/plain": [
       "(38, 4)"
      ]
     },
     "execution_count": 47,
     "metadata": {},
     "output_type": "execute_result"
    }
   ],
   "source": [
    "x_new_test.shape"
   ]
  },
  {
   "cell_type": "code",
   "execution_count": 48,
   "metadata": {},
   "outputs": [
    {
     "data": {
      "text/plain": [
       "(38,)"
      ]
     },
     "execution_count": 48,
     "metadata": {},
     "output_type": "execute_result"
    }
   ],
   "source": [
    "y_test.shape"
   ]
  },
  {
   "cell_type": "raw",
   "metadata": {},
   "source": [
    "step 7:implementing algorithms and forming models"
   ]
  },
  {
   "cell_type": "markdown",
   "metadata": {},
   "source": [
    "# Algorithms"
   ]
  },
  {
   "cell_type": "raw",
   "metadata": {},
   "source": [
    "hence, our output will be in classes i.e., 0,1,2 we will be using classification algorithms to train the model"
   ]
  },
  {
   "cell_type": "markdown",
   "metadata": {},
   "source": [
    "#### Logistic Regression"
   ]
  },
  {
   "cell_type": "code",
   "execution_count": 49,
   "metadata": {},
   "outputs": [],
   "source": [
    "from sklearn.linear_model import LogisticRegression\n",
    "from sklearn.preprocessing import StandardScaler\n",
    "from sklearn.pipeline import Pipeline"
   ]
  },
  {
   "cell_type": "code",
   "execution_count": 50,
   "metadata": {},
   "outputs": [
    {
     "data": {
      "text/plain": [
       "Pipeline(memory=None,\n",
       "         steps=[('sc',\n",
       "                 StandardScaler(copy=True, with_mean=True, with_std=True)),\n",
       "                ('classifier',\n",
       "                 LogisticRegression(C=1.0, class_weight=None, dual=False,\n",
       "                                    fit_intercept=True, intercept_scaling=1,\n",
       "                                    l1_ratio=None, max_iter=100,\n",
       "                                    multi_class='auto', n_jobs=None,\n",
       "                                    penalty='l2', random_state=None,\n",
       "                                    solver='lbfgs', tol=0.0001, verbose=0,\n",
       "                                    warm_start=False))],\n",
       "         verbose=False)"
      ]
     },
     "execution_count": 50,
     "metadata": {},
     "output_type": "execute_result"
    }
   ],
   "source": [
    "lgr=Pipeline([(\"sc\",StandardScaler()),(\"classifier\",LogisticRegression())])\n",
    "lgr.fit(x_new_train,y_train)"
   ]
  },
  {
   "cell_type": "code",
   "execution_count": 51,
   "metadata": {},
   "outputs": [
    {
     "data": {
      "text/plain": [
       "array([0, 1, 1, 2, 1, 1, 2, 1, 0, 0, 0, 0, 0, 2, 1, 0, 1, 1, 2, 2, 2, 0,\n",
       "       2, 1, 0, 2, 0, 0, 0, 2, 1, 2, 2, 2, 2, 2, 1, 0], dtype=int64)"
      ]
     },
     "execution_count": 51,
     "metadata": {},
     "output_type": "execute_result"
    }
   ],
   "source": [
    "y_pred=lgr.predict(x_new_test)\n",
    "y_pred"
   ]
  },
  {
   "cell_type": "code",
   "execution_count": 52,
   "metadata": {},
   "outputs": [
    {
     "data": {
      "text/plain": [
       "array([2, 2, 1, 2, 2, 1, 1, 1, 0, 0, 0, 0, 0, 2, 1, 0, 2, 1, 1, 2, 2, 0,\n",
       "       2, 1, 0, 2, 0, 0, 0, 2, 1, 2, 2, 2, 2, 1, 1, 0], dtype=int64)"
      ]
     },
     "execution_count": 52,
     "metadata": {},
     "output_type": "execute_result"
    }
   ],
   "source": [
    "y_test"
   ]
  },
  {
   "cell_type": "code",
   "execution_count": 53,
   "metadata": {},
   "outputs": [
    {
     "data": {
      "text/plain": [
       "0.8157894736842105"
      ]
     },
     "execution_count": 53,
     "metadata": {},
     "output_type": "execute_result"
    }
   ],
   "source": [
    "from sklearn.metrics import accuracy_score\n",
    "lgrp=accuracy_score(y_test,y_pred)\n",
    "lgrp"
   ]
  },
  {
   "cell_type": "markdown",
   "metadata": {},
   "source": [
    "#### Decision trees"
   ]
  },
  {
   "cell_type": "code",
   "execution_count": 54,
   "metadata": {},
   "outputs": [],
   "source": [
    "from sklearn.tree import DecisionTreeRegressor"
   ]
  },
  {
   "cell_type": "code",
   "execution_count": 55,
   "metadata": {},
   "outputs": [
    {
     "data": {
      "text/plain": [
       "DecisionTreeRegressor(ccp_alpha=0.0, criterion='mse', max_depth=None,\n",
       "                      max_features=None, max_leaf_nodes=None,\n",
       "                      min_impurity_decrease=0.0, min_impurity_split=None,\n",
       "                      min_samples_leaf=1, min_samples_split=2,\n",
       "                      min_weight_fraction_leaf=0.0, presort='deprecated',\n",
       "                      random_state=0, splitter='best')"
      ]
     },
     "execution_count": 55,
     "metadata": {},
     "output_type": "execute_result"
    }
   ],
   "source": [
    "dt=DecisionTreeRegressor(criterion='mse',random_state=0)\n",
    "dt.fit(x_new_train,y_train)"
   ]
  },
  {
   "cell_type": "code",
   "execution_count": 56,
   "metadata": {},
   "outputs": [
    {
     "data": {
      "text/plain": [
       "array([2., 2., 1., 2., 2., 1., 1., 0., 0., 0., 0., 0., 0., 2., 1., 0., 2.,\n",
       "       1., 1., 2., 0., 0., 2., 1., 0., 2., 0., 0., 0., 2., 1., 2., 2., 0.,\n",
       "       2., 1., 1., 0.])"
      ]
     },
     "execution_count": 56,
     "metadata": {},
     "output_type": "execute_result"
    }
   ],
   "source": [
    "y_pred=dt.predict(x_new_test)\n",
    "y_pred"
   ]
  },
  {
   "cell_type": "code",
   "execution_count": 57,
   "metadata": {},
   "outputs": [
    {
     "data": {
      "text/plain": [
       "array([2, 2, 1, 2, 2, 1, 1, 1, 0, 0, 0, 0, 0, 2, 1, 0, 2, 1, 1, 2, 2, 0,\n",
       "       2, 1, 0, 2, 0, 0, 0, 2, 1, 2, 2, 2, 2, 1, 1, 0], dtype=int64)"
      ]
     },
     "execution_count": 57,
     "metadata": {},
     "output_type": "execute_result"
    }
   ],
   "source": [
    "y_test"
   ]
  },
  {
   "cell_type": "code",
   "execution_count": 58,
   "metadata": {},
   "outputs": [
    {
     "data": {
      "text/plain": [
       "0.9210526315789473"
      ]
     },
     "execution_count": 58,
     "metadata": {},
     "output_type": "execute_result"
    }
   ],
   "source": [
    "from sklearn.metrics import accuracy_score\n",
    "dtp=accuracy_score(y_test,y_pred)\n",
    "dtp"
   ]
  },
  {
   "cell_type": "markdown",
   "metadata": {},
   "source": [
    "#### Random Forest"
   ]
  },
  {
   "cell_type": "code",
   "execution_count": 59,
   "metadata": {},
   "outputs": [],
   "source": [
    "from sklearn.ensemble import RandomForestRegressor"
   ]
  },
  {
   "cell_type": "code",
   "execution_count": 60,
   "metadata": {},
   "outputs": [
    {
     "data": {
      "text/plain": [
       "RandomForestRegressor(bootstrap=True, ccp_alpha=0.0, criterion='mse',\n",
       "                      max_depth=None, max_features='auto', max_leaf_nodes=None,\n",
       "                      max_samples=None, min_impurity_decrease=0.0,\n",
       "                      min_impurity_split=None, min_samples_leaf=1,\n",
       "                      min_samples_split=2, min_weight_fraction_leaf=0.0,\n",
       "                      n_estimators=100, n_jobs=None, oob_score=False,\n",
       "                      random_state=0, verbose=0, warm_start=False)"
      ]
     },
     "execution_count": 60,
     "metadata": {},
     "output_type": "execute_result"
    }
   ],
   "source": [
    "rf=RandomForestRegressor(n_estimators=100,random_state=0)\n",
    "rf.fit(x_new_train,y_train)"
   ]
  },
  {
   "cell_type": "code",
   "execution_count": 61,
   "metadata": {},
   "outputs": [
    {
     "data": {
      "text/plain": [
       "array([1.76, 1.98, 1.03, 1.99, 1.42, 1.01, 1.01, 0.76, 0.  , 0.  , 0.02,\n",
       "       0.  , 0.  , 2.  , 1.05, 0.  , 2.  , 1.02, 1.01, 1.93, 0.55, 0.83,\n",
       "       2.  , 1.  , 0.01, 1.61, 0.  , 0.  , 0.01, 1.97, 1.  , 1.98, 1.98,\n",
       "       1.44, 1.64, 1.18, 1.  , 0.  ])"
      ]
     },
     "execution_count": 61,
     "metadata": {},
     "output_type": "execute_result"
    }
   ],
   "source": [
    "y_pred=rf.predict(x_new_test)\n",
    "y_pred"
   ]
  },
  {
   "cell_type": "code",
   "execution_count": 62,
   "metadata": {},
   "outputs": [
    {
     "data": {
      "text/plain": [
       "array([2, 2, 1, 2, 2, 1, 1, 1, 0, 0, 0, 0, 0, 2, 1, 0, 2, 1, 1, 2, 2, 0,\n",
       "       2, 1, 0, 2, 0, 0, 0, 2, 1, 2, 2, 2, 2, 1, 1, 0], dtype=int64)"
      ]
     },
     "execution_count": 62,
     "metadata": {},
     "output_type": "execute_result"
    }
   ],
   "source": [
    "y_test"
   ]
  },
  {
   "cell_type": "code",
   "execution_count": 63,
   "metadata": {},
   "outputs": [
    {
     "data": {
      "text/plain": [
       "0.8549311701081612"
      ]
     },
     "execution_count": 63,
     "metadata": {},
     "output_type": "execute_result"
    }
   ],
   "source": [
    "from sklearn.metrics import r2_score\n",
    "rfp=r2_score(y_test,y_pred)\n",
    "rfp"
   ]
  },
  {
   "cell_type": "markdown",
   "metadata": {},
   "source": [
    "#### Naive Bayes"
   ]
  },
  {
   "cell_type": "code",
   "execution_count": 64,
   "metadata": {},
   "outputs": [],
   "source": [
    "from sklearn.naive_bayes import GaussianNB\n",
    "from sklearn.preprocessing import StandardScaler\n",
    "from sklearn.pipeline import Pipeline"
   ]
  },
  {
   "cell_type": "code",
   "execution_count": 65,
   "metadata": {},
   "outputs": [
    {
     "data": {
      "text/plain": [
       "Pipeline(memory=None,\n",
       "         steps=[('sc',\n",
       "                 StandardScaler(copy=True, with_mean=True, with_std=True)),\n",
       "                ('classifier', GaussianNB(priors=None, var_smoothing=1e-09))],\n",
       "         verbose=False)"
      ]
     },
     "execution_count": 65,
     "metadata": {},
     "output_type": "execute_result"
    }
   ],
   "source": [
    "nb=Pipeline([(\"sc\",StandardScaler()),(\"classifier\",GaussianNB())])\n",
    "nb.fit(x_new_train,y_train)"
   ]
  },
  {
   "cell_type": "code",
   "execution_count": 66,
   "metadata": {},
   "outputs": [
    {
     "data": {
      "text/plain": [
       "array([2, 2, 1, 2, 2, 1, 1, 2, 0, 0, 0, 0, 0, 2, 1, 0, 2, 1, 1, 2, 2, 0,\n",
       "       2, 1, 0, 2, 0, 0, 0, 2, 1, 2, 2, 2, 2, 1, 1, 0], dtype=int64)"
      ]
     },
     "execution_count": 66,
     "metadata": {},
     "output_type": "execute_result"
    }
   ],
   "source": [
    "y_pred=nb.predict(x_new_test)\n",
    "y_pred"
   ]
  },
  {
   "cell_type": "code",
   "execution_count": 67,
   "metadata": {},
   "outputs": [
    {
     "data": {
      "text/plain": [
       "array([2, 2, 1, 2, 2, 1, 1, 1, 0, 0, 0, 0, 0, 2, 1, 0, 2, 1, 1, 2, 2, 0,\n",
       "       2, 1, 0, 2, 0, 0, 0, 2, 1, 2, 2, 2, 2, 1, 1, 0], dtype=int64)"
      ]
     },
     "execution_count": 67,
     "metadata": {},
     "output_type": "execute_result"
    }
   ],
   "source": [
    "y_test"
   ]
  },
  {
   "cell_type": "code",
   "execution_count": 68,
   "metadata": {},
   "outputs": [
    {
     "data": {
      "text/plain": [
       "0.9736842105263158"
      ]
     },
     "execution_count": 68,
     "metadata": {},
     "output_type": "execute_result"
    }
   ],
   "source": [
    "from sklearn.metrics import accuracy_score\n",
    "nbp=accuracy_score(y_test,y_pred)\n",
    "nbp"
   ]
  },
  {
   "cell_type": "markdown",
   "metadata": {},
   "source": [
    "#### Nearest Neighbour"
   ]
  },
  {
   "cell_type": "code",
   "execution_count": 69,
   "metadata": {},
   "outputs": [],
   "source": [
    "from sklearn.neighbors import KNeighborsClassifier\n",
    "from sklearn.preprocessing import StandardScaler\n",
    "from sklearn.pipeline import Pipeline"
   ]
  },
  {
   "cell_type": "code",
   "execution_count": 70,
   "metadata": {},
   "outputs": [
    {
     "data": {
      "text/plain": [
       "Pipeline(memory=None,\n",
       "         steps=[('sc',\n",
       "                 StandardScaler(copy=True, with_mean=True, with_std=True)),\n",
       "                ('classifier',\n",
       "                 KNeighborsClassifier(algorithm='auto', leaf_size=30,\n",
       "                                      metric='minkowski', metric_params=None,\n",
       "                                      n_jobs=None, n_neighbors=5, p=1,\n",
       "                                      weights='uniform'))],\n",
       "         verbose=False)"
      ]
     },
     "execution_count": 70,
     "metadata": {},
     "output_type": "execute_result"
    }
   ],
   "source": [
    "nn=Pipeline([(\"sc\",StandardScaler()),(\"classifier\",KNeighborsClassifier(metric='minkowski',p=1))])\n",
    "nn.fit(x_new_train,y_train)"
   ]
  },
  {
   "cell_type": "code",
   "execution_count": 71,
   "metadata": {},
   "outputs": [
    {
     "data": {
      "text/plain": [
       "array([2, 2, 1, 2, 0, 1, 1, 0, 0, 0, 0, 0, 0, 2, 1, 0, 2, 1, 1, 2, 0, 0,\n",
       "       2, 1, 0, 1, 0, 0, 0, 2, 1, 2, 2, 2, 2, 1, 1, 0], dtype=int64)"
      ]
     },
     "execution_count": 71,
     "metadata": {},
     "output_type": "execute_result"
    }
   ],
   "source": [
    "y_pred=nn.predict(x_new_test)\n",
    "y_pred"
   ]
  },
  {
   "cell_type": "code",
   "execution_count": 72,
   "metadata": {},
   "outputs": [
    {
     "data": {
      "text/plain": [
       "array([2, 2, 1, 2, 2, 1, 1, 1, 0, 0, 0, 0, 0, 2, 1, 0, 2, 1, 1, 2, 2, 0,\n",
       "       2, 1, 0, 2, 0, 0, 0, 2, 1, 2, 2, 2, 2, 1, 1, 0], dtype=int64)"
      ]
     },
     "execution_count": 72,
     "metadata": {},
     "output_type": "execute_result"
    }
   ],
   "source": [
    "y_test"
   ]
  },
  {
   "cell_type": "code",
   "execution_count": 73,
   "metadata": {},
   "outputs": [
    {
     "data": {
      "text/plain": [
       "0.8947368421052632"
      ]
     },
     "execution_count": 73,
     "metadata": {},
     "output_type": "execute_result"
    }
   ],
   "source": [
    "from sklearn.metrics import accuracy_score\n",
    "nnp=accuracy_score(y_test,y_pred)\n",
    "nnp"
   ]
  },
  {
   "cell_type": "code",
   "execution_count": 74,
   "metadata": {},
   "outputs": [],
   "source": [
    "comp=[lgrp,dtp,rfp,nbp,nnp]\n",
    "label=['Logistic Regression','Decision Tree','Random Forest','Naive Bayes','Nearest Neighbour']\n",
    "sl=pd.Series(comp,label)"
   ]
  },
  {
   "cell_type": "code",
   "execution_count": 75,
   "metadata": {},
   "outputs": [],
   "source": [
    "plt.rcParams['figure.figsize']=(10,5)"
   ]
  },
  {
   "cell_type": "code",
   "execution_count": 76,
   "metadata": {},
   "outputs": [
    {
     "data": {
      "text/plain": [
       "<matplotlib.axes._subplots.AxesSubplot at 0x2adef5da408>"
      ]
     },
     "execution_count": 76,
     "metadata": {},
     "output_type": "execute_result"
    },
    {
     "data": {
      "image/png": "[encoded data removed]",
      "text/plain": [
       "<Figure size 720x360 with 1 Axes>"
      ]
     },
     "metadata": {
      "needs_background": "light"
     },
     "output_type": "display_data"
    }
   ],
   "source": [
    "sl.plot.bar()"
   ]
  },
  {
   "cell_type": "markdown",
   "metadata": {},
   "source": [
    "### Therefore,by seeing the above bar plot we have concluded that naive bayes algorithm would be the best algorithm to predict the Level of a patient by taking the SBP,DBP,Pulse and Temperature of the patient as the required input."
   ]
  },
  {
   "cell_type": "raw",
   "metadata": {},
   "source": [
    "step 8:save the best model"
   ]
  },
  {
   "cell_type": "raw",
   "metadata": {},
   "source": [
    "so the model formed by naive bayes algorithm is saved as \"nb.save\""
   ]
  },
  {
   "cell_type": "code",
   "execution_count": 77,
   "metadata": {},
   "outputs": [
    {
     "data": {
      "text/plain": [
       "['nb.save']"
      ]
     },
     "execution_count": 77,
     "metadata": {},
     "output_type": "execute_result"
    }
   ],
   "source": [
    "from joblib import dump\n",
    "dump(nb,'nb.save')"
   ]
  },
  {
   "cell_type": "code",
   "execution_count": null,
   "metadata": {},
   "outputs": [],
   "source": []
  }
 ],
 "metadata": {
  "kernelspec": {
   "display_name": "Python 3",
   "language": "python",
   "name": "python3"
  },
  "language_info": {
   "codemirror_mode": {
    "name": "ipython",
    "version": 3
   },
   "file_extension": ".py",
   "mimetype": "text/x-python",
   "name": "python",
   "nbconvert_exporter": "python",
   "pygments_lexer": "ipython3",
   "version": "3.7.6"
  }
 },
 "nbformat": 4,
 "nbformat_minor": 2
}
